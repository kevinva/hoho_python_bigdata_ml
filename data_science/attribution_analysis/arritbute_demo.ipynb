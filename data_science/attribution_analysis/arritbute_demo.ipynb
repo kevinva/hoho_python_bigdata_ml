{
 "cells": [
  {
   "cell_type": "code",
   "execution_count": 1,
   "id": "6153813c",
   "metadata": {},
   "outputs": [],
   "source": [
    "import markov_model_attribution as mma\n",
    "import pandas as pd"
   ]
  },
  {
   "cell_type": "code",
   "execution_count": 2,
   "id": "a00df826",
   "metadata": {},
   "outputs": [],
   "source": [
    "df = pd.DataFrame({'Paths':['start > cone > ctwo > cthree > conv',\n",
    "                           'start > cone > null',\n",
    "                           'start > ctwo > cthree > null']})\n",
    "\n",
    "model = mma.run_model(paths=df)"
   ]
  },
  {
   "cell_type": "code",
   "execution_count": 3,
   "id": "76621beb",
   "metadata": {},
   "outputs": [
    {
     "data": {
      "text/html": [
       "<div>\n",
       "<style scoped>\n",
       "    .dataframe tbody tr th:only-of-type {\n",
       "        vertical-align: middle;\n",
       "    }\n",
       "\n",
       "    .dataframe tbody tr th {\n",
       "        vertical-align: top;\n",
       "    }\n",
       "\n",
       "    .dataframe thead th {\n",
       "        text-align: right;\n",
       "    }\n",
       "</style>\n",
       "<table border=\"1\" class=\"dataframe\">\n",
       "  <thead>\n",
       "    <tr style=\"text-align: right;\">\n",
       "      <th></th>\n",
       "      <th>Paths</th>\n",
       "    </tr>\n",
       "  </thead>\n",
       "  <tbody>\n",
       "    <tr>\n",
       "      <th>0</th>\n",
       "      <td>start &gt; cone &gt; ctwo &gt; cthree &gt; conv</td>\n",
       "    </tr>\n",
       "    <tr>\n",
       "      <th>1</th>\n",
       "      <td>start &gt; cone &gt; null</td>\n",
       "    </tr>\n",
       "    <tr>\n",
       "      <th>2</th>\n",
       "      <td>start &gt; ctwo &gt; cthree &gt; null</td>\n",
       "    </tr>\n",
       "  </tbody>\n",
       "</table>\n",
       "</div>"
      ],
      "text/plain": [
       "                                 Paths\n",
       "0  start > cone > ctwo > cthree > conv\n",
       "1                  start > cone > null\n",
       "2         start > ctwo > cthree > null"
      ]
     },
     "execution_count": 3,
     "metadata": {},
     "output_type": "execute_result"
    }
   ],
   "source": [
    "df"
   ]
  },
  {
   "cell_type": "code",
   "execution_count": 4,
   "id": "3ced8e11",
   "metadata": {},
   "outputs": [
    {
     "data": {
      "text/plain": [
       "{'markov_conversions': {'ctwo': 0.4, 'cthree': 0.4, 'cone': 0.2},\n",
       " 'last_touch_conversions': {'ctwo': 0, 'cthree': 1, 'cone': 0},\n",
       " 'removal_effects': {'ctwo': 1.0, 'cthree': 1.0, 'cone': 0.5},\n",
       " 'base_cvr': 0.3333333333333333,\n",
       " 'transition_matrix':             ctwo  null  cthree  conv  start      cone\n",
       " ctwo    0.000000   0.0     1.0   0.0    0.0  0.000000\n",
       " null    0.000000   1.0     0.0   0.0    0.0  0.000000\n",
       " cthree  0.000000   0.5     0.0   0.5    0.0  0.000000\n",
       " conv    0.000000   0.0     0.0   1.0    0.0  0.000000\n",
       " start   0.333333   0.0     0.0   0.0    0.0  0.666667\n",
       " cone    0.500000   0.5     0.0   0.0    0.0  0.000000,\n",
       " 'absorption_matrix': array([[0.5       , 0.5       ],\n",
       "        [0.5       , 0.5       ],\n",
       "        [0.66666667, 0.33333333],\n",
       "        [0.75      , 0.25      ]])}"
      ]
     },
     "execution_count": 4,
     "metadata": {},
     "output_type": "execute_result"
    }
   ],
   "source": [
    "model"
   ]
  },
  {
   "cell_type": "code",
   "execution_count": 5,
   "id": "cc09d371",
   "metadata": {},
   "outputs": [
    {
     "data": {
      "text/html": [
       "<div>\n",
       "<style scoped>\n",
       "    .dataframe tbody tr th:only-of-type {\n",
       "        vertical-align: middle;\n",
       "    }\n",
       "\n",
       "    .dataframe tbody tr th {\n",
       "        vertical-align: top;\n",
       "    }\n",
       "\n",
       "    .dataframe thead th {\n",
       "        text-align: right;\n",
       "    }\n",
       "</style>\n",
       "<table border=\"1\" class=\"dataframe\">\n",
       "  <thead>\n",
       "    <tr style=\"text-align: right;\">\n",
       "      <th></th>\n",
       "      <th>ctwo</th>\n",
       "      <th>null</th>\n",
       "      <th>cthree</th>\n",
       "      <th>conv</th>\n",
       "      <th>start</th>\n",
       "      <th>cone</th>\n",
       "    </tr>\n",
       "  </thead>\n",
       "  <tbody>\n",
       "    <tr>\n",
       "      <th>ctwo</th>\n",
       "      <td>0.000000</td>\n",
       "      <td>0.0</td>\n",
       "      <td>1.0</td>\n",
       "      <td>0.0</td>\n",
       "      <td>0.0</td>\n",
       "      <td>0.000000</td>\n",
       "    </tr>\n",
       "    <tr>\n",
       "      <th>null</th>\n",
       "      <td>0.000000</td>\n",
       "      <td>1.0</td>\n",
       "      <td>0.0</td>\n",
       "      <td>0.0</td>\n",
       "      <td>0.0</td>\n",
       "      <td>0.000000</td>\n",
       "    </tr>\n",
       "    <tr>\n",
       "      <th>cthree</th>\n",
       "      <td>0.000000</td>\n",
       "      <td>0.5</td>\n",
       "      <td>0.0</td>\n",
       "      <td>0.5</td>\n",
       "      <td>0.0</td>\n",
       "      <td>0.000000</td>\n",
       "    </tr>\n",
       "    <tr>\n",
       "      <th>conv</th>\n",
       "      <td>0.000000</td>\n",
       "      <td>0.0</td>\n",
       "      <td>0.0</td>\n",
       "      <td>1.0</td>\n",
       "      <td>0.0</td>\n",
       "      <td>0.000000</td>\n",
       "    </tr>\n",
       "    <tr>\n",
       "      <th>start</th>\n",
       "      <td>0.333333</td>\n",
       "      <td>0.0</td>\n",
       "      <td>0.0</td>\n",
       "      <td>0.0</td>\n",
       "      <td>0.0</td>\n",
       "      <td>0.666667</td>\n",
       "    </tr>\n",
       "    <tr>\n",
       "      <th>cone</th>\n",
       "      <td>0.500000</td>\n",
       "      <td>0.5</td>\n",
       "      <td>0.0</td>\n",
       "      <td>0.0</td>\n",
       "      <td>0.0</td>\n",
       "      <td>0.000000</td>\n",
       "    </tr>\n",
       "  </tbody>\n",
       "</table>\n",
       "</div>"
      ],
      "text/plain": [
       "            ctwo  null  cthree  conv  start      cone\n",
       "ctwo    0.000000   0.0     1.0   0.0    0.0  0.000000\n",
       "null    0.000000   1.0     0.0   0.0    0.0  0.000000\n",
       "cthree  0.000000   0.5     0.0   0.5    0.0  0.000000\n",
       "conv    0.000000   0.0     0.0   1.0    0.0  0.000000\n",
       "start   0.333333   0.0     0.0   0.0    0.0  0.666667\n",
       "cone    0.500000   0.5     0.0   0.0    0.0  0.000000"
      ]
     },
     "execution_count": 5,
     "metadata": {},
     "output_type": "execute_result"
    }
   ],
   "source": [
    "model[\"transition_matrix\"]"
   ]
  },
  {
   "cell_type": "code",
   "execution_count": null,
   "id": "e79388b9",
   "metadata": {},
   "outputs": [],
   "source": []
  }
 ],
 "metadata": {
  "kernelspec": {
   "display_name": "Python 3 (ipykernel)",
   "language": "python",
   "name": "python3"
  },
  "language_info": {
   "codemirror_mode": {
    "name": "ipython",
    "version": 3
   },
   "file_extension": ".py",
   "mimetype": "text/x-python",
   "name": "python",
   "nbconvert_exporter": "python",
   "pygments_lexer": "ipython3",
   "version": "3.10.11"
  }
 },
 "nbformat": 4,
 "nbformat_minor": 5
}
