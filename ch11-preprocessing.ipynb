{
 "cells": [
  {
   "cell_type": "code",
   "execution_count": 24,
   "id": "19bc1d53",
   "metadata": {},
   "outputs": [],
   "source": [
    "import pandas as pd\n",
    "import numpy as np"
   ]
  },
  {
   "cell_type": "code",
   "execution_count": 4,
   "id": "876d6174",
   "metadata": {},
   "outputs": [],
   "source": [
    "data = pd.DataFrame({'c1': [3, 10, 5, 7, 1, 9, 69], 'c2': [15, 16, 14, 100, 19, 11, 8], 'c3': [20, 15, 18, 21, 120, 27, 29]})"
   ]
  },
  {
   "cell_type": "code",
   "execution_count": 5,
   "id": "fb873b35",
   "metadata": {},
   "outputs": [
    {
     "data": {
      "text/html": [
       "<div>\n",
       "<style scoped>\n",
       "    .dataframe tbody tr th:only-of-type {\n",
       "        vertical-align: middle;\n",
       "    }\n",
       "\n",
       "    .dataframe tbody tr th {\n",
       "        vertical-align: top;\n",
       "    }\n",
       "\n",
       "    .dataframe thead th {\n",
       "        text-align: right;\n",
       "    }\n",
       "</style>\n",
       "<table border=\"1\" class=\"dataframe\">\n",
       "  <thead>\n",
       "    <tr style=\"text-align: right;\">\n",
       "      <th></th>\n",
       "      <th>c1</th>\n",
       "      <th>c2</th>\n",
       "      <th>c3</th>\n",
       "    </tr>\n",
       "  </thead>\n",
       "  <tbody>\n",
       "    <tr>\n",
       "      <th>0</th>\n",
       "      <td>3</td>\n",
       "      <td>15</td>\n",
       "      <td>20</td>\n",
       "    </tr>\n",
       "    <tr>\n",
       "      <th>1</th>\n",
       "      <td>10</td>\n",
       "      <td>16</td>\n",
       "      <td>15</td>\n",
       "    </tr>\n",
       "    <tr>\n",
       "      <th>2</th>\n",
       "      <td>5</td>\n",
       "      <td>14</td>\n",
       "      <td>18</td>\n",
       "    </tr>\n",
       "    <tr>\n",
       "      <th>3</th>\n",
       "      <td>7</td>\n",
       "      <td>100</td>\n",
       "      <td>21</td>\n",
       "    </tr>\n",
       "    <tr>\n",
       "      <th>4</th>\n",
       "      <td>1</td>\n",
       "      <td>19</td>\n",
       "      <td>120</td>\n",
       "    </tr>\n",
       "    <tr>\n",
       "      <th>5</th>\n",
       "      <td>9</td>\n",
       "      <td>11</td>\n",
       "      <td>27</td>\n",
       "    </tr>\n",
       "    <tr>\n",
       "      <th>6</th>\n",
       "      <td>69</td>\n",
       "      <td>8</td>\n",
       "      <td>29</td>\n",
       "    </tr>\n",
       "  </tbody>\n",
       "</table>\n",
       "</div>"
      ],
      "text/plain": [
       "   c1   c2   c3\n",
       "0   3   15   20\n",
       "1  10   16   15\n",
       "2   5   14   18\n",
       "3   7  100   21\n",
       "4   1   19  120\n",
       "5   9   11   27\n",
       "6  69    8   29"
      ]
     },
     "execution_count": 5,
     "metadata": {},
     "output_type": "execute_result"
    }
   ],
   "source": [
    "data"
   ]
  },
  {
   "cell_type": "markdown",
   "id": "84a23690",
   "metadata": {},
   "source": [
    "### 异常值检测\n",
    "\n",
    "* 用箱体图检测\n",
    "![./images/ch11-1.png](./images/ch11-1.png)\n",
    "\n",
    "\n",
    "* 用正态分布。如：认为数值与均值距离超过2个标准差则认为可以是异常值\n",
    "\n",
    "$ x^{*} = \\frac{x - mean}{std} $"
   ]
  },
  {
   "cell_type": "code",
   "execution_count": 6,
   "id": "b59e108e",
   "metadata": {},
   "outputs": [
    {
     "data": {
      "text/plain": [
       "<AxesSubplot:>"
      ]
     },
     "execution_count": 6,
     "metadata": {},
     "output_type": "execute_result"
    },
    {
     "data": {
      "image/png": "[encoded data removed]",
      "text/plain": [
       "<Figure size 432x288 with 1 Axes>"
      ]
     },
     "metadata": {
      "needs_background": "light"
     },
     "output_type": "display_data"
    }
   ],
   "source": [
    "data.boxplot()"
   ]
  },
  {
   "cell_type": "code",
   "execution_count": 9,
   "id": "e2919fd1",
   "metadata": {},
   "outputs": [],
   "source": [
    "a = pd.DataFrame()\n",
    "for i in data.columns:\n",
    "    z = (data[i] - data[i].mean()) / data[i].std()   # Z-score标准化\n",
    "    a[i] = abs(z) > 2   # 是否超过两个标准差"
   ]
  },
  {
   "cell_type": "code",
   "execution_count": 10,
   "id": "7d88054f",
   "metadata": {},
   "outputs": [
    {
     "data": {
      "text/html": [
       "<div>\n",
       "<style scoped>\n",
       "    .dataframe tbody tr th:only-of-type {\n",
       "        vertical-align: middle;\n",
       "    }\n",
       "\n",
       "    .dataframe tbody tr th {\n",
       "        vertical-align: top;\n",
       "    }\n",
       "\n",
       "    .dataframe thead th {\n",
       "        text-align: right;\n",
       "    }\n",
       "</style>\n",
       "<table border=\"1\" class=\"dataframe\">\n",
       "  <thead>\n",
       "    <tr style=\"text-align: right;\">\n",
       "      <th></th>\n",
       "      <th>c1</th>\n",
       "      <th>c2</th>\n",
       "      <th>c3</th>\n",
       "    </tr>\n",
       "  </thead>\n",
       "  <tbody>\n",
       "    <tr>\n",
       "      <th>0</th>\n",
       "      <td>False</td>\n",
       "      <td>False</td>\n",
       "      <td>False</td>\n",
       "    </tr>\n",
       "    <tr>\n",
       "      <th>1</th>\n",
       "      <td>False</td>\n",
       "      <td>False</td>\n",
       "      <td>False</td>\n",
       "    </tr>\n",
       "    <tr>\n",
       "      <th>2</th>\n",
       "      <td>False</td>\n",
       "      <td>False</td>\n",
       "      <td>False</td>\n",
       "    </tr>\n",
       "    <tr>\n",
       "      <th>3</th>\n",
       "      <td>False</td>\n",
       "      <td>True</td>\n",
       "      <td>False</td>\n",
       "    </tr>\n",
       "    <tr>\n",
       "      <th>4</th>\n",
       "      <td>False</td>\n",
       "      <td>False</td>\n",
       "      <td>True</td>\n",
       "    </tr>\n",
       "    <tr>\n",
       "      <th>5</th>\n",
       "      <td>False</td>\n",
       "      <td>False</td>\n",
       "      <td>False</td>\n",
       "    </tr>\n",
       "    <tr>\n",
       "      <th>6</th>\n",
       "      <td>True</td>\n",
       "      <td>False</td>\n",
       "      <td>False</td>\n",
       "    </tr>\n",
       "  </tbody>\n",
       "</table>\n",
       "</div>"
      ],
      "text/plain": [
       "      c1     c2     c3\n",
       "0  False  False  False\n",
       "1  False  False  False\n",
       "2  False  False  False\n",
       "3  False   True  False\n",
       "4  False  False   True\n",
       "5  False  False  False\n",
       "6   True  False  False"
      ]
     },
     "execution_count": 10,
     "metadata": {},
     "output_type": "execute_result"
    }
   ],
   "source": [
    "a"
   ]
  },
  {
   "cell_type": "code",
   "execution_count": null,
   "id": "21b9537c",
   "metadata": {},
   "outputs": [],
   "source": []
  },
  {
   "cell_type": "markdown",
   "id": "5173be91",
   "metadata": {},
   "source": [
    "### 数据的分箱\n",
    "\n",
    "一般用于对连续型变量离散化\n",
    "\n",
    "* 等宽分箱：每个分箱的差值相等\n",
    "* 等深分箱：每个分箱中的样本数一致"
   ]
  },
  {
   "cell_type": "code",
   "execution_count": 11,
   "id": "93f827f3",
   "metadata": {},
   "outputs": [],
   "source": [
    "data = pd.DataFrame([[22, 1], [25, 1], [20, 0], [35, 0], [32, 1], [38, 0], [50, 0], [46, 1]], columns=['年龄', '是否违约'])"
   ]
  },
  {
   "cell_type": "markdown",
   "id": "747cfb93",
   "metadata": {},
   "source": [
    "data"
   ]
  },
  {
   "cell_type": "code",
   "execution_count": 13,
   "id": "46c2cf5d",
   "metadata": {},
   "outputs": [],
   "source": [
    "data_cut = pd.cut(data['年龄'], 3)"
   ]
  },
  {
   "cell_type": "code",
   "execution_count": 14,
   "id": "13e9e4d3",
   "metadata": {},
   "outputs": [
    {
     "data": {
      "text/plain": [
       "0    (19.97, 30.0]\n",
       "1    (19.97, 30.0]\n",
       "2    (19.97, 30.0]\n",
       "3     (30.0, 40.0]\n",
       "4     (30.0, 40.0]\n",
       "5     (30.0, 40.0]\n",
       "6     (40.0, 50.0]\n",
       "7     (40.0, 50.0]\n",
       "Name: 年龄, dtype: category\n",
       "Categories (3, interval[float64, right]): [(19.97, 30.0] < (30.0, 40.0] < (40.0, 50.0]]"
      ]
     },
     "execution_count": 14,
     "metadata": {},
     "output_type": "execute_result"
    }
   ],
   "source": [
    "data_cut"
   ]
  },
  {
   "cell_type": "code",
   "execution_count": null,
   "id": "586d510b",
   "metadata": {},
   "outputs": [],
   "source": []
  },
  {
   "cell_type": "markdown",
   "id": "c2226344",
   "metadata": {},
   "source": [
    "### 特征筛选\n",
    "\n",
    "* WOE值\n",
    "WOE——Weight of Evidence，反映某一变量的特征区分度。值越大，特征区分度越高\n",
    "\n",
    "计算步骤：\n",
    "1. 先分箱\n",
    "2. 分箱后，第i个分箱内数据的WOE值计算： $WOE_i = \\ln \\frac{P_{y_i}}{P_{n_i}}，其中 P_{y_i} = \\frac{y_i}{y_T}, P_{n_i} = \\frac{n_i}{n_T}$\n",
    "\n",
    "以客户违约预测模型为例（标签为客户是否违约）：\n",
    "\n",
    "$P_{y_i}$是第i个分箱中违约客户占整个样本中违约客户的比例\n",
    "\n",
    "$P_{n_i}$是第i个分箱中未违约客户占整个样本中未违约客户的比例\n",
    "\n",
    "\n",
    "* IV值\n",
    "\n",
    "Information Value（信息量），能较好反映特征变量的预测能力。特征变量IV值越大，其价值越大。\n",
    "\n",
    "$IV_i = (P_{y_i} - P_{n_i})WOE_i$\n",
    "\n",
    "然后对各个分箱的IV值求和即可得这个特征变量的IV值： $IV=\\sum\\limits_{i}^n IV_i$\n"
   ]
  },
  {
   "cell_type": "code",
   "execution_count": 21,
   "id": "6f0d8e5f",
   "metadata": {},
   "outputs": [],
   "source": [
    "cut_group_all = data['是否违约'].groupby(data_cut).count()\n",
    "cut_y = data['是否违约'].groupby(data_cut).sum()\n",
    "cut_n = cut_group_all - cut_y"
   ]
  },
  {
   "cell_type": "code",
   "execution_count": 22,
   "id": "37564f7e",
   "metadata": {},
   "outputs": [],
   "source": [
    "df = pd.DataFrame()\n",
    "df['总数'] = cut_group_all\n",
    "df['坏样本'] = cut_y\n",
    "df['好样本'] = cut_n"
   ]
  },
  {
   "cell_type": "code",
   "execution_count": 23,
   "id": "5e504db7",
   "metadata": {},
   "outputs": [
    {
     "data": {
      "text/html": [
       "<div>\n",
       "<style scoped>\n",
       "    .dataframe tbody tr th:only-of-type {\n",
       "        vertical-align: middle;\n",
       "    }\n",
       "\n",
       "    .dataframe tbody tr th {\n",
       "        vertical-align: top;\n",
       "    }\n",
       "\n",
       "    .dataframe thead th {\n",
       "        text-align: right;\n",
       "    }\n",
       "</style>\n",
       "<table border=\"1\" class=\"dataframe\">\n",
       "  <thead>\n",
       "    <tr style=\"text-align: right;\">\n",
       "      <th></th>\n",
       "      <th>总数</th>\n",
       "      <th>坏样本</th>\n",
       "      <th>好样本</th>\n",
       "    </tr>\n",
       "    <tr>\n",
       "      <th>年龄</th>\n",
       "      <th></th>\n",
       "      <th></th>\n",
       "      <th></th>\n",
       "    </tr>\n",
       "  </thead>\n",
       "  <tbody>\n",
       "    <tr>\n",
       "      <th>(19.97, 30.0]</th>\n",
       "      <td>3</td>\n",
       "      <td>2</td>\n",
       "      <td>1</td>\n",
       "    </tr>\n",
       "    <tr>\n",
       "      <th>(30.0, 40.0]</th>\n",
       "      <td>3</td>\n",
       "      <td>1</td>\n",
       "      <td>2</td>\n",
       "    </tr>\n",
       "    <tr>\n",
       "      <th>(40.0, 50.0]</th>\n",
       "      <td>2</td>\n",
       "      <td>1</td>\n",
       "      <td>1</td>\n",
       "    </tr>\n",
       "  </tbody>\n",
       "</table>\n",
       "</div>"
      ],
      "text/plain": [
       "               总数  坏样本  好样本\n",
       "年龄                         \n",
       "(19.97, 30.0]   3    2    1\n",
       "(30.0, 40.0]    3    1    2\n",
       "(40.0, 50.0]    2    1    1"
      ]
     },
     "execution_count": 23,
     "metadata": {},
     "output_type": "execute_result"
    }
   ],
   "source": [
    "df"
   ]
  },
  {
   "cell_type": "code",
   "execution_count": 27,
   "id": "5913e4fb",
   "metadata": {},
   "outputs": [],
   "source": [
    "df['坏样本%'] = df['坏样本'] / df['坏样本'].sum()\n",
    "df['好样本%'] = df['好样本'] / df['好样本'].sum()\n",
    "\n",
    "df['WOE'] = np.log(df['坏样本%'] / df['好样本%'])\n",
    "df = df.replace({'WOE': {np.inf: 0, -np.inf: 0}})\n",
    "\n",
    "df['IV'] = df['WOE'] * (df['坏样本%'] - df['好样本%'])"
   ]
  },
  {
   "cell_type": "code",
   "execution_count": 28,
   "id": "2267e0b4",
   "metadata": {},
   "outputs": [
    {
     "data": {
      "text/html": [
       "<div>\n",
       "<style scoped>\n",
       "    .dataframe tbody tr th:only-of-type {\n",
       "        vertical-align: middle;\n",
       "    }\n",
       "\n",
       "    .dataframe tbody tr th {\n",
       "        vertical-align: top;\n",
       "    }\n",
       "\n",
       "    .dataframe thead th {\n",
       "        text-align: right;\n",
       "    }\n",
       "</style>\n",
       "<table border=\"1\" class=\"dataframe\">\n",
       "  <thead>\n",
       "    <tr style=\"text-align: right;\">\n",
       "      <th></th>\n",
       "      <th>总数</th>\n",
       "      <th>坏样本</th>\n",
       "      <th>好样本</th>\n",
       "      <th>坏样本%</th>\n",
       "      <th>好样本%</th>\n",
       "      <th>WOE</th>\n",
       "      <th>IV</th>\n",
       "    </tr>\n",
       "    <tr>\n",
       "      <th>年龄</th>\n",
       "      <th></th>\n",
       "      <th></th>\n",
       "      <th></th>\n",
       "      <th></th>\n",
       "      <th></th>\n",
       "      <th></th>\n",
       "      <th></th>\n",
       "    </tr>\n",
       "  </thead>\n",
       "  <tbody>\n",
       "    <tr>\n",
       "      <th>(19.97, 30.0]</th>\n",
       "      <td>3</td>\n",
       "      <td>2</td>\n",
       "      <td>1</td>\n",
       "      <td>0.50</td>\n",
       "      <td>0.25</td>\n",
       "      <td>0.693147</td>\n",
       "      <td>0.173287</td>\n",
       "    </tr>\n",
       "    <tr>\n",
       "      <th>(30.0, 40.0]</th>\n",
       "      <td>3</td>\n",
       "      <td>1</td>\n",
       "      <td>2</td>\n",
       "      <td>0.25</td>\n",
       "      <td>0.50</td>\n",
       "      <td>-0.693147</td>\n",
       "      <td>0.173287</td>\n",
       "    </tr>\n",
       "    <tr>\n",
       "      <th>(40.0, 50.0]</th>\n",
       "      <td>2</td>\n",
       "      <td>1</td>\n",
       "      <td>1</td>\n",
       "      <td>0.25</td>\n",
       "      <td>0.25</td>\n",
       "      <td>0.000000</td>\n",
       "      <td>0.000000</td>\n",
       "    </tr>\n",
       "  </tbody>\n",
       "</table>\n",
       "</div>"
      ],
      "text/plain": [
       "               总数  坏样本  好样本  坏样本%  好样本%       WOE        IV\n",
       "年龄                                                         \n",
       "(19.97, 30.0]   3    2    1  0.50  0.25  0.693147  0.173287\n",
       "(30.0, 40.0]    3    1    2  0.25  0.50 -0.693147  0.173287\n",
       "(40.0, 50.0]    2    1    1  0.25  0.25  0.000000  0.000000"
      ]
     },
     "execution_count": 28,
     "metadata": {},
     "output_type": "execute_result"
    }
   ],
   "source": [
    "df"
   ]
  },
  {
   "cell_type": "code",
   "execution_count": 29,
   "id": "23597842",
   "metadata": {},
   "outputs": [],
   "source": [
    "iv = df['IV'].sum()"
   ]
  },
  {
   "cell_type": "code",
   "execution_count": 30,
   "id": "6a6fa214",
   "metadata": {},
   "outputs": [
    {
     "data": {
      "text/plain": [
       "0.34657359027997264"
      ]
     },
     "execution_count": 30,
     "metadata": {},
     "output_type": "execute_result"
    }
   ],
   "source": [
    "iv"
   ]
  },
  {
   "cell_type": "code",
   "execution_count": null,
   "id": "4ffb5836",
   "metadata": {},
   "outputs": [],
   "source": []
  },
  {
   "cell_type": "markdown",
   "id": "4cd13d88",
   "metadata": {},
   "source": [
    "### 特征线性相关或近似线性相关判断（多重共线性）\n",
    "\n",
    "线性相关： $\\alpha_1 X_1 + \\alpha_2 X_2 + ... + \\alpha_n X_n = 0，其中\\alpha_i 不全为0$\n",
    "\n",
    "近似线性相关： $\\alpha_1 X_1 + \\alpha_2 X_2 + ... + \\alpha_n X_n + v = 0，其中\\alpha_i 不全为0，v为误差随机项$\n",
    "\n",
    "1. 测试皮尔逊相关系数\n",
    "2. 方差膨胀系数法（VIF检验）\n",
    "\n",
    "$X_i$对应的$VIF_i = \\frac{1}{1 - R^2}$, 其中$R^2$为R-squred值 （Chapter 3）\n",
    "\n",
    "一般认为$VIF_i < 10$，该变量与其余变量直接不存在多重共线性；$10 \\leq VIF_i < 100$则较强多重共线性；$VIF_i \\geq 100$则严重多重共线性"
   ]
  },
  {
   "cell_type": "code",
   "execution_count": 32,
   "id": "8ff4c72e",
   "metadata": {},
   "outputs": [
    {
     "name": "stderr",
     "output_type": "stream",
     "text": [
      "/opt/anaconda3/envs/hoho_RL/lib/python3.9/site-packages/statsmodels/stats/outliers_influence.py:195: RuntimeWarning: divide by zero encountered in double_scalars\n",
      "  vif = 1. / (1. - r_squared_i)\n"
     ]
    }
   ],
   "source": [
    "from statsmodels.stats.outliers_influence import variance_inflation_factor\n",
    "\n",
    "vif = [variance_inflation_factor(df.values, df.columns.get_loc(i)) for i in df.columns]"
   ]
  },
  {
   "cell_type": "code",
   "execution_count": 33,
   "id": "a404c4a3",
   "metadata": {},
   "outputs": [
    {
     "data": {
      "text/plain": [
       "[inf, inf, inf, inf, inf, inf, 5.500000000000002]"
      ]
     },
     "execution_count": 33,
     "metadata": {},
     "output_type": "execute_result"
    }
   ],
   "source": [
    "vif"
   ]
  },
  {
   "cell_type": "code",
   "execution_count": null,
   "id": "b061d319",
   "metadata": {},
   "outputs": [],
   "source": []
  },
  {
   "cell_type": "code",
   "execution_count": 35,
   "id": "d56131a8",
   "metadata": {},
   "outputs": [
    {
     "data": {
      "text/html": [
       "<div>\n",
       "<style scoped>\n",
       "    .dataframe tbody tr th:only-of-type {\n",
       "        vertical-align: middle;\n",
       "    }\n",
       "\n",
       "    .dataframe tbody tr th {\n",
       "        vertical-align: top;\n",
       "    }\n",
       "\n",
       "    .dataframe thead th {\n",
       "        text-align: right;\n",
       "    }\n",
       "</style>\n",
       "<table border=\"1\" class=\"dataframe\">\n",
       "  <thead>\n",
       "    <tr style=\"text-align: right;\">\n",
       "      <th></th>\n",
       "      <th>编号</th>\n",
       "      <th>年龄</th>\n",
       "      <th>负债比率</th>\n",
       "      <th>月收入</th>\n",
       "      <th>贷款数量</th>\n",
       "      <th>家属人数</th>\n",
       "      <th>分类</th>\n",
       "    </tr>\n",
       "  </thead>\n",
       "  <tbody>\n",
       "    <tr>\n",
       "      <th>0</th>\n",
       "      <td>1</td>\n",
       "      <td>29</td>\n",
       "      <td>0.22</td>\n",
       "      <td>7800</td>\n",
       "      <td>1</td>\n",
       "      <td>3</td>\n",
       "      <td>0</td>\n",
       "    </tr>\n",
       "    <tr>\n",
       "      <th>1</th>\n",
       "      <td>2</td>\n",
       "      <td>52</td>\n",
       "      <td>0.46</td>\n",
       "      <td>4650</td>\n",
       "      <td>1</td>\n",
       "      <td>0</td>\n",
       "      <td>0</td>\n",
       "    </tr>\n",
       "    <tr>\n",
       "      <th>2</th>\n",
       "      <td>3</td>\n",
       "      <td>28</td>\n",
       "      <td>0.10</td>\n",
       "      <td>3000</td>\n",
       "      <td>0</td>\n",
       "      <td>0</td>\n",
       "      <td>0</td>\n",
       "    </tr>\n",
       "    <tr>\n",
       "      <th>3</th>\n",
       "      <td>4</td>\n",
       "      <td>29</td>\n",
       "      <td>0.20</td>\n",
       "      <td>5916</td>\n",
       "      <td>0</td>\n",
       "      <td>0</td>\n",
       "      <td>0</td>\n",
       "    </tr>\n",
       "    <tr>\n",
       "      <th>4</th>\n",
       "      <td>5</td>\n",
       "      <td>27</td>\n",
       "      <td>1.28</td>\n",
       "      <td>1300</td>\n",
       "      <td>0</td>\n",
       "      <td>0</td>\n",
       "      <td>1</td>\n",
       "    </tr>\n",
       "  </tbody>\n",
       "</table>\n",
       "</div>"
      ],
      "text/plain": [
       "   编号  年龄  负债比率   月收入  贷款数量  家属人数  分类\n",
       "0   1  29  0.22  7800     1     3   0\n",
       "1   2  52  0.46  4650     1     0   0\n",
       "2   3  28  0.10  3000     0     0   0\n",
       "3   4  29  0.20  5916     0     0   0\n",
       "4   5  27  1.28  1300     0     0   1"
      ]
     },
     "execution_count": 35,
     "metadata": {},
     "output_type": "execute_result"
    }
   ],
   "source": [
    "# smote过采样\n",
    "\n",
    "data = pd.read_excel('./data/信用卡数据.xlsx')\n",
    "data.head()"
   ]
  },
  {
   "cell_type": "code",
   "execution_count": 36,
   "id": "2eb5a83f",
   "metadata": {},
   "outputs": [],
   "source": [
    "X = data.drop(columns='分类')\n",
    "y = data['分类']"
   ]
  },
  {
   "cell_type": "code",
   "execution_count": 37,
   "id": "c37999fd",
   "metadata": {},
   "outputs": [
    {
     "data": {
      "text/plain": [
       "Counter({0: 1000, 1: 100})"
      ]
     },
     "execution_count": 37,
     "metadata": {},
     "output_type": "execute_result"
    }
   ],
   "source": [
    "from collections import Counter\n",
    "\n",
    "Counter(y)"
   ]
  },
  {
   "cell_type": "code",
   "execution_count": 38,
   "id": "977c8846",
   "metadata": {},
   "outputs": [
    {
     "name": "stdout",
     "output_type": "stream",
     "text": [
      "Collecting imblearn\n",
      "  Downloading imblearn-0.0-py2.py3-none-any.whl (1.9 kB)\n",
      "Collecting imbalanced-learn\n",
      "  Downloading imbalanced_learn-0.9.1-py3-none-any.whl (199 kB)\n",
      "\u001b[2K     \u001b[38;2;114;156;31m━━━━━━━━━━━━━━━━━━━━━━━━━━━━━━━━━━━━━━━\u001b[0m \u001b[32m199.3/199.3 kB\u001b[0m \u001b[31m1.2 MB/s\u001b[0m eta \u001b[36m0:00:00\u001b[0m[36m0:00:01\u001b[0m[36m0:00:01\u001b[0m:01\u001b[0m\n",
      "\u001b[?25hRequirement already satisfied: joblib>=1.0.0 in /opt/anaconda3/envs/hoho_RL/lib/python3.9/site-packages (from imbalanced-learn->imblearn) (1.1.0)\n",
      "Requirement already satisfied: scikit-learn>=1.1.0 in /opt/anaconda3/envs/hoho_RL/lib/python3.9/site-packages (from imbalanced-learn->imblearn) (1.1.1)\n",
      "Requirement already satisfied: numpy>=1.17.3 in /opt/anaconda3/envs/hoho_RL/lib/python3.9/site-packages (from imbalanced-learn->imblearn) (1.21.6)\n",
      "Requirement already satisfied: scipy>=1.3.2 in /opt/anaconda3/envs/hoho_RL/lib/python3.9/site-packages (from imbalanced-learn->imblearn) (1.8.1)\n",
      "Requirement already satisfied: threadpoolctl>=2.0.0 in /opt/anaconda3/envs/hoho_RL/lib/python3.9/site-packages (from imbalanced-learn->imblearn) (3.1.0)\n",
      "Installing collected packages: imbalanced-learn, imblearn\n",
      "Successfully installed imbalanced-learn-0.9.1 imblearn-0.0\n"
     ]
    }
   ],
   "source": [
    "!pip install imblearn"
   ]
  },
  {
   "cell_type": "code",
   "execution_count": 39,
   "id": "4f013e22",
   "metadata": {},
   "outputs": [],
   "source": [
    "from imblearn.over_sampling import SMOTE\n",
    "\n",
    "smote = SMOTE(random_state=0)\n",
    "X_smotesampled, y_smotesampled = smote.fit_resample(X, y)"
   ]
  },
  {
   "cell_type": "code",
   "execution_count": 40,
   "id": "3dc90f67",
   "metadata": {},
   "outputs": [
    {
     "data": {
      "text/plain": [
       "Counter({0: 1000, 1: 1000})"
      ]
     },
     "execution_count": 40,
     "metadata": {},
     "output_type": "execute_result"
    }
   ],
   "source": [
    "Counter(y_smotesampled)"
   ]
  },
  {
   "cell_type": "code",
   "execution_count": null,
   "id": "b5c58956",
   "metadata": {},
   "outputs": [],
   "source": []
  }
 ],
 "metadata": {
  "kernelspec": {
   "display_name": "Python 3 (ipykernel)",
   "language": "python",
   "name": "python3"
  },
  "language_info": {
   "codemirror_mode": {
    "name": "ipython",
    "version": 3
   },
   "file_extension": ".py",
   "mimetype": "text/x-python",
   "name": "python",
   "nbconvert_exporter": "python",
   "pygments_lexer": "ipython3",
   "version": "3.9.12"
  }
 },
 "nbformat": 4,
 "nbformat_minor": 5
}
