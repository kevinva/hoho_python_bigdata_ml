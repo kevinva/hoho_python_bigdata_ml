{
 "cells": [
  {
   "cell_type": "code",
   "execution_count": 76,
   "id": "62831b58",
   "metadata": {},
   "outputs": [],
   "source": [
    "import pandas as pd\n",
    "import numpy as np\n",
    "import matplotlib as mpl\n",
    "import matplotlib.pyplot as plt\n",
    "\n",
    "%matplotlib inline\n",
    "mpl.rcParams['font.family'] = 'SimHei'"
   ]
  },
  {
   "cell_type": "code",
   "execution_count": 77,
   "id": "170aef25",
   "metadata": {},
   "outputs": [
    {
     "data": {
      "text/html": [
       "<div>\n",
       "<style scoped>\n",
       "    .dataframe tbody tr th:only-of-type {\n",
       "        vertical-align: middle;\n",
       "    }\n",
       "\n",
       "    .dataframe tbody tr th {\n",
       "        vertical-align: top;\n",
       "    }\n",
       "\n",
       "    .dataframe thead th {\n",
       "        text-align: right;\n",
       "    }\n",
       "</style>\n",
       "<table border=\"1\" class=\"dataframe\">\n",
       "  <thead>\n",
       "    <tr style=\"text-align: right;\">\n",
       "      <th></th>\n",
       "      <th>情感</th>\n",
       "      <th>语句</th>\n",
       "      <th>来源</th>\n",
       "    </tr>\n",
       "  </thead>\n",
       "  <tbody>\n",
       "    <tr>\n",
       "      <th>131299</th>\n",
       "      <td>抱怨</td>\n",
       "      <td>车大灯照明效果不给力，中控的小红屏很不爽啊。</td>\n",
       "      <td>开源数据集</td>\n",
       "    </tr>\n",
       "    <tr>\n",
       "      <th>41461</th>\n",
       "      <td>辱骂</td>\n",
       "      <td>对，自己家那么有钱还在乎那么点押金，还有怕带坏自己女朋友就杀人的，呵呵，说的自己是什么好东西...</td>\n",
       "      <td>COLDataset</td>\n",
       "    </tr>\n",
       "    <tr>\n",
       "      <th>127834</th>\n",
       "      <td>抱怨</td>\n",
       "      <td>没有标配倒车影像，没有后视镜加热这两样实用的功能很无奈！城区限行皮卡，最不安逸。</td>\n",
       "      <td>开源数据集</td>\n",
       "    </tr>\n",
       "    <tr>\n",
       "      <th>91917</th>\n",
       "      <td>表扬</td>\n",
       "      <td>最满意的地方就是空间比较大，乘坐比较舒适，配置很高</td>\n",
       "      <td>开源数据集</td>\n",
       "    </tr>\n",
       "    <tr>\n",
       "      <th>111399</th>\n",
       "      <td>表扬</td>\n",
       "      <td>使用过程中，满意的地方就是，跑长途驾驶员不会太累，空间大，随乘人员不会显得太挤，车辆行驶过程...</td>\n",
       "      <td>开源数据集</td>\n",
       "    </tr>\n",
       "    <tr>\n",
       "      <th>42693</th>\n",
       "      <td>中性</td>\n",
       "      <td>费雯丽，童年女神</td>\n",
       "      <td>COLDataset</td>\n",
       "    </tr>\n",
       "    <tr>\n",
       "      <th>47889</th>\n",
       "      <td>辱骂</td>\n",
       "      <td>身为浙江人说下，去年家里停过两次，一次有五六小时左右，一次大约二小时，具体为一次是线路改造，...</td>\n",
       "      <td>COLDataset</td>\n",
       "    </tr>\n",
       "    <tr>\n",
       "      <th>75970</th>\n",
       "      <td>表扬</td>\n",
       "      <td>满意外观</td>\n",
       "      <td>开源数据集</td>\n",
       "    </tr>\n",
       "    <tr>\n",
       "      <th>54550</th>\n",
       "      <td>辱骂</td>\n",
       "      <td>就好比一个黑人跟你比赛之前说中国疫情怎么样 难道还要看你赢不赢才回击他么 我相信你会直接骂他...</td>\n",
       "      <td>COLDataset</td>\n",
       "    </tr>\n",
       "    <tr>\n",
       "      <th>117129</th>\n",
       "      <td>表扬</td>\n",
       "      <td>油耗低，舒适性好，空间大。</td>\n",
       "      <td>开源数据集</td>\n",
       "    </tr>\n",
       "  </tbody>\n",
       "</table>\n",
       "</div>"
      ],
      "text/plain": [
       "        情感                                                 语句          来源\n",
       "131299  抱怨                             车大灯照明效果不给力，中控的小红屏很不爽啊。       开源数据集\n",
       "41461   辱骂  对，自己家那么有钱还在乎那么点押金，还有怕带坏自己女朋友就杀人的，呵呵，说的自己是什么好东西...  COLDataset\n",
       "127834  抱怨           没有标配倒车影像，没有后视镜加热这两样实用的功能很无奈！城区限行皮卡，最不安逸。       开源数据集\n",
       "91917   表扬                          最满意的地方就是空间比较大，乘坐比较舒适，配置很高       开源数据集\n",
       "111399  表扬  使用过程中，满意的地方就是，跑长途驾驶员不会太累，空间大，随乘人员不会显得太挤，车辆行驶过程...       开源数据集\n",
       "42693   中性                                           费雯丽，童年女神  COLDataset\n",
       "47889   辱骂  身为浙江人说下，去年家里停过两次，一次有五六小时左右，一次大约二小时，具体为一次是线路改造，...  COLDataset\n",
       "75970   表扬                                               满意外观       开源数据集\n",
       "54550   辱骂  就好比一个黑人跟你比赛之前说中国疫情怎么样 难道还要看你赢不赢才回击他么 我相信你会直接骂他...  COLDataset\n",
       "117129  表扬                                      油耗低，舒适性好，空间大。       开源数据集"
      ]
     },
     "execution_count": 77,
     "metadata": {},
     "output_type": "execute_result"
    }
   ],
   "source": [
    "df = pd.read_excel('./data/data_train.xlsx')\n",
    "df.sample(10)"
   ]
  },
  {
   "cell_type": "code",
   "execution_count": 78,
   "id": "e631083d",
   "metadata": {},
   "outputs": [
    {
     "name": "stdout",
     "output_type": "stream",
     "text": [
      "样本数:(142834, 3)\n"
     ]
    }
   ],
   "source": [
    "print(f'样本数:{df.shape}')"
   ]
  },
  {
   "cell_type": "code",
   "execution_count": 83,
   "id": "dc61c232",
   "metadata": {},
   "outputs": [
    {
     "name": "stdout",
     "output_type": "stream",
     "text": [
      "类别：\n",
      "抱怨    37153\n",
      "表扬    35101\n",
      "投诉    30508\n",
      "中性    21881\n",
      "辱骂    18191\n",
      "Name: 情感, dtype: int64\n"
     ]
    },
    {
     "data": {
      "text/plain": [
       "Text(0.5, 1.0, '类别分布')"
      ]
     },
     "execution_count": 83,
     "metadata": {},
     "output_type": "execute_result"
    },
    {
     "data": {
      "image/png": "[encoded data removed]",
      "text/plain": [
       "<Figure size 360x360 with 1 Axes>"
      ]
     },
     "metadata": {},
     "output_type": "display_data"
    }
   ],
   "source": [
    "print(f\"类别：\\n{df['情感'].value_counts()}\")\n",
    "\n",
    "plt.figure(figsize = (6, 6), dpi = 60)\n",
    "df['情感'].value_counts().plot.pie(autopct = '%1.1f%%', textprops = {'fontsize': 16}).set_title('类别分布')"
   ]
  },
  {
   "cell_type": "code",
   "execution_count": 84,
   "id": "db01d232",
   "metadata": {},
   "outputs": [
    {
     "name": "stdout",
     "output_type": "stream",
     "text": [
      "缺失值分布：\n",
      " 3\n"
     ]
    }
   ],
   "source": [
    "print(f\"缺失值分布：\\n {df['语句'].isna().sum()}\")"
   ]
  },
  {
   "cell_type": "code",
   "execution_count": 85,
   "id": "130208fa",
   "metadata": {},
   "outputs": [
    {
     "data": {
      "text/html": [
       "<div>\n",
       "<style scoped>\n",
       "    .dataframe tbody tr th:only-of-type {\n",
       "        vertical-align: middle;\n",
       "    }\n",
       "\n",
       "    .dataframe tbody tr th {\n",
       "        vertical-align: top;\n",
       "    }\n",
       "\n",
       "    .dataframe thead th {\n",
       "        text-align: right;\n",
       "    }\n",
       "</style>\n",
       "<table border=\"1\" class=\"dataframe\">\n",
       "  <thead>\n",
       "    <tr style=\"text-align: right;\">\n",
       "      <th></th>\n",
       "      <th>情感</th>\n",
       "      <th>语句</th>\n",
       "      <th>来源</th>\n",
       "    </tr>\n",
       "  </thead>\n",
       "  <tbody>\n",
       "    <tr>\n",
       "      <th>36723</th>\n",
       "      <td>中性</td>\n",
       "      <td>NaN</td>\n",
       "      <td>COLDataset</td>\n",
       "    </tr>\n",
       "    <tr>\n",
       "      <th>52766</th>\n",
       "      <td>辱骂</td>\n",
       "      <td>NaN</td>\n",
       "      <td>COLDataset</td>\n",
       "    </tr>\n",
       "    <tr>\n",
       "      <th>62669</th>\n",
       "      <td>辱骂</td>\n",
       "      <td>NaN</td>\n",
       "      <td>COLDataset</td>\n",
       "    </tr>\n",
       "  </tbody>\n",
       "</table>\n",
       "</div>"
      ],
      "text/plain": [
       "       情感   语句          来源\n",
       "36723  中性  NaN  COLDataset\n",
       "52766  辱骂  NaN  COLDataset\n",
       "62669  辱骂  NaN  COLDataset"
      ]
     },
     "execution_count": 85,
     "metadata": {},
     "output_type": "execute_result"
    }
   ],
   "source": [
    "df[df['语句'].isna()]"
   ]
  },
  {
   "cell_type": "code",
   "execution_count": 86,
   "id": "b2876fe0",
   "metadata": {},
   "outputs": [
    {
     "name": "stdout",
     "output_type": "stream",
     "text": [
      "缺失值分布：\n",
      " 0\n"
     ]
    }
   ],
   "source": [
    "df = df.dropna()\n",
    "print(f\"缺失值分布：\\n {df['语句'].isna().sum()}\")"
   ]
  },
  {
   "cell_type": "code",
   "execution_count": 87,
   "id": "634b2b1e",
   "metadata": {},
   "outputs": [
    {
     "name": "stdout",
     "output_type": "stream",
     "text": [
      "重复值：\n",
      " 10743，比例：7.521%\n"
     ]
    }
   ],
   "source": [
    "print(f\"重复值：\\n {df['语句'].duplicated().sum()}，比例：{np.round(100 * df['语句'].duplicated().sum() / len(df), 3)}%\")"
   ]
  },
  {
   "cell_type": "code",
   "execution_count": 88,
   "id": "bcc9ea65",
   "metadata": {},
   "outputs": [
    {
     "data": {
      "text/plain": [
       "88                      价格要是能再低点就更好了！京东应该多搞特价活动!快递的服务态度不是很好\n",
       "134          国产代工，电池部分设计不合理，装上电池后，与键盘平行的那一面有一点点高起来，有可能与屏接触。\n",
       "194       我在买之前就看到很多人说装系统麻烦，果然不只一点点烦啊，一开始硬盘没找到。。。找了半天，不过...\n",
       "262       六心电池装在后面突出一大块影响美观，速度慢机器有点卡，放歌一停顿一停顿，重量比一般的上网本重...\n",
       "274       发热是普遍的，不过从07年我就开始使用的6515b的情况看，这个热是没有带来任何问题的，你不...\n",
       "                                ...                        \n",
       "142042                      动力稍稍有点不足，油耗有点小高，不知道是不是我不太会开的缘故。\n",
       "142048    感觉北汽幻速车噪音还是有点的，不过慢慢习惯了就好了，特别是车子起步时候，踩上油门时候有明显感...\n",
       "142056    最不满意的就是车子的动力还是有点不那么够用，一般家用的话应该是可以了，主要我是用来拉客偶尔也...\n",
       "142179    虽然我是新手，但是油耗对于1.5l排量的车确实高，百公里差不多9个油，还有就是挂2档的时候，...\n",
       "142552                                                 暂时没有\n",
       "Name: 语句, Length: 10743, dtype: object"
      ]
     },
     "execution_count": 88,
     "metadata": {},
     "output_type": "execute_result"
    }
   ],
   "source": [
    "df[df['语句'].duplicated() == True]['语句']  # 好奇怪？为啥会重复？"
   ]
  },
  {
   "cell_type": "code",
   "execution_count": 89,
   "id": "914df67a",
   "metadata": {},
   "outputs": [
    {
     "data": {
      "text/plain": [
       "情感         5\n",
       "语句    132088\n",
       "来源         4\n",
       "dtype: int64"
      ]
     },
     "execution_count": 89,
     "metadata": {},
     "output_type": "execute_result"
    }
   ],
   "source": [
    "df.nunique()"
   ]
  },
  {
   "cell_type": "code",
   "execution_count": null,
   "id": "ebbb6036",
   "metadata": {},
   "outputs": [],
   "source": []
  },
  {
   "cell_type": "code",
   "execution_count": null,
   "id": "05e219fe",
   "metadata": {},
   "outputs": [],
   "source": []
  }
 ],
 "metadata": {
  "kernelspec": {
   "display_name": "Python 3 (ipykernel)",
   "language": "python",
   "name": "python3"
  },
  "language_info": {
   "codemirror_mode": {
    "name": "ipython",
    "version": 3
   },
   "file_extension": ".py",
   "mimetype": "text/x-python",
   "name": "python",
   "nbconvert_exporter": "python",
   "pygments_lexer": "ipython3",
   "version": "3.9.7"
  }
 },
 "nbformat": 4,
 "nbformat_minor": 5
}
