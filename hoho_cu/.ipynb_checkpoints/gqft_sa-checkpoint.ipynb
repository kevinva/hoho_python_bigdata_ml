{
 "cells": [
  {
   "cell_type": "code",
   "execution_count": 125,
   "id": "6795c5b0",
   "metadata": {},
   "outputs": [],
   "source": [
    "import re\n",
    "import time\n",
    "import pandas as pd\n",
    "import numpy as np\n",
    "import matplotlib as mpl\n",
    "import matplotlib.pyplot as plt\n",
    "import hanlp\n",
    "from sklearn.preprocessing import LabelEncoder\n",
    "from sklearn.feature_extraction.text import TfidfVectorizer\n",
    "from sklearn.linear_model import LogisticRegression, RidgeClassifier\n",
    "# from sklearn.naive_bayes import GaussianNB\n",
    "from sklearn.model_selection import train_test_split, GridSearchCV, StratifiedKFold\n",
    "from lightgbm import LGBMClassifier\n",
    "# from catboost import CatBoostClassifier\n",
    "    \n",
    "%matplotlib inline\n",
    "mpl.rcParams['font.family'] = 'SimHei'"
   ]
  },
  {
   "cell_type": "code",
   "execution_count": 2,
   "id": "d7dc97d6",
   "metadata": {},
   "outputs": [
    {
     "data": {
      "text/html": [
       "<div>\n",
       "<style scoped>\n",
       "    .dataframe tbody tr th:only-of-type {\n",
       "        vertical-align: middle;\n",
       "    }\n",
       "\n",
       "    .dataframe tbody tr th {\n",
       "        vertical-align: top;\n",
       "    }\n",
       "\n",
       "    .dataframe thead th {\n",
       "        text-align: right;\n",
       "    }\n",
       "</style>\n",
       "<table border=\"1\" class=\"dataframe\">\n",
       "  <thead>\n",
       "    <tr style=\"text-align: right;\">\n",
       "      <th></th>\n",
       "      <th>情感</th>\n",
       "      <th>语句</th>\n",
       "      <th>来源</th>\n",
       "    </tr>\n",
       "  </thead>\n",
       "  <tbody>\n",
       "    <tr>\n",
       "      <th>137486</th>\n",
       "      <td>抱怨</td>\n",
       "      <td>唯一有点不满意的是，车窗会异响，不过后来去生活馆换了车窗的升降机之后异响就消失了。在这里要表...</td>\n",
       "      <td>开源数据集</td>\n",
       "    </tr>\n",
       "    <tr>\n",
       "      <th>56853</th>\n",
       "      <td>中性</td>\n",
       "      <td>赶紧找个珍惜你的男孩子嫁了吧</td>\n",
       "      <td>COLDataset</td>\n",
       "    </tr>\n",
       "    <tr>\n",
       "      <th>65089</th>\n",
       "      <td>中性</td>\n",
       "      <td>台湾人从小接受的教育就是如此，没办法</td>\n",
       "      <td>COLDataset</td>\n",
       "    </tr>\n",
       "    <tr>\n",
       "      <th>19722</th>\n",
       "      <td>投诉</td>\n",
       "      <td>进口宝马5系ID7车机缺少车主手册描述功能</td>\n",
       "      <td>车质网</td>\n",
       "    </tr>\n",
       "    <tr>\n",
       "      <th>32778</th>\n",
       "      <td>投诉</td>\n",
       "      <td>华晨宝马5系车机功能与厂家宣传不符</td>\n",
       "      <td>车质网</td>\n",
       "    </tr>\n",
       "    <tr>\n",
       "      <th>60528</th>\n",
       "      <td>中性</td>\n",
       "      <td>《求婚大作战》基本上算是日剧跑这个桥段的巅峰之作，男主山P在剧中每集都要玩命狂奔。甚至超越了...</td>\n",
       "      <td>COLDataset</td>\n",
       "    </tr>\n",
       "    <tr>\n",
       "      <th>15823</th>\n",
       "      <td>投诉</td>\n",
       "      <td>福建奔驰威霆发动机抖动加速无力</td>\n",
       "      <td>车质网</td>\n",
       "    </tr>\n",
       "    <tr>\n",
       "      <th>47638</th>\n",
       "      <td>中性</td>\n",
       "      <td>我们这些偏瘦的男士，一直再为120130的体重奋斗。</td>\n",
       "      <td>COLDataset</td>\n",
       "    </tr>\n",
       "    <tr>\n",
       "      <th>122754</th>\n",
       "      <td>表扬</td>\n",
       "      <td>就没什么满意的</td>\n",
       "      <td>开源数据集</td>\n",
       "    </tr>\n",
       "    <tr>\n",
       "      <th>9790</th>\n",
       "      <td>投诉</td>\n",
       "      <td>一汽奔腾T77多媒体屏幕黑屏4S店无法解决</td>\n",
       "      <td>车质网</td>\n",
       "    </tr>\n",
       "  </tbody>\n",
       "</table>\n",
       "</div>"
      ],
      "text/plain": [
       "        情感                                                 语句          来源\n",
       "137486  抱怨  唯一有点不满意的是，车窗会异响，不过后来去生活馆换了车窗的升降机之后异响就消失了。在这里要表...       开源数据集\n",
       "56853   中性                                     赶紧找个珍惜你的男孩子嫁了吧  COLDataset\n",
       "65089   中性                                 台湾人从小接受的教育就是如此，没办法  COLDataset\n",
       "19722   投诉                              进口宝马5系ID7车机缺少车主手册描述功能         车质网\n",
       "32778   投诉                                  华晨宝马5系车机功能与厂家宣传不符         车质网\n",
       "60528   中性  《求婚大作战》基本上算是日剧跑这个桥段的巅峰之作，男主山P在剧中每集都要玩命狂奔。甚至超越了...  COLDataset\n",
       "15823   投诉                                    福建奔驰威霆发动机抖动加速无力         车质网\n",
       "47638   中性                         我们这些偏瘦的男士，一直再为120130的体重奋斗。  COLDataset\n",
       "122754  表扬                                            就没什么满意的       开源数据集\n",
       "9790    投诉                              一汽奔腾T77多媒体屏幕黑屏4S店无法解决         车质网"
      ]
     },
     "execution_count": 2,
     "metadata": {},
     "output_type": "execute_result"
    }
   ],
   "source": [
    "df = pd.read_excel('./data/data_train.xlsx')\n",
    "df.sample(10)"
   ]
  },
  {
   "cell_type": "code",
   "execution_count": 3,
   "id": "ca678b16",
   "metadata": {},
   "outputs": [
    {
     "name": "stdout",
     "output_type": "stream",
     "text": [
      "样本数:(142834, 3)\n"
     ]
    }
   ],
   "source": [
    "print(f'样本数:{df.shape}')"
   ]
  },
  {
   "cell_type": "code",
   "execution_count": 4,
   "id": "25cb2fbc",
   "metadata": {},
   "outputs": [
    {
     "name": "stdout",
     "output_type": "stream",
     "text": [
      "类别：\n",
      "抱怨    37153\n",
      "表扬    35101\n",
      "投诉    30508\n",
      "中性    21881\n",
      "辱骂    18191\n",
      "Name: 情感, dtype: int64\n"
     ]
    },
    {
     "data": {
      "text/plain": [
       "Text(0.5, 1.0, '类别分布')"
      ]
     },
     "execution_count": 4,
     "metadata": {},
     "output_type": "execute_result"
    },
    {
     "data": {
      "image/png": "[encoded data removed]",
      "text/plain": [
       "<Figure size 360x360 with 1 Axes>"
      ]
     },
     "metadata": {},
     "output_type": "display_data"
    }
   ],
   "source": [
    "print(f\"类别：\\n{df['情感'].value_counts()}\")\n",
    "\n",
    "plt.figure(figsize = (6, 6), dpi = 60)\n",
    "df['情感'].value_counts().plot.pie(autopct = '%1.1f%%', textprops = {'fontsize': 16}).set_title('类别分布')"
   ]
  },
  {
   "cell_type": "code",
   "execution_count": 5,
   "id": "b3df67ab",
   "metadata": {},
   "outputs": [
    {
     "name": "stdout",
     "output_type": "stream",
     "text": [
      "缺失值分布：\n",
      " 3\n"
     ]
    }
   ],
   "source": [
    "print(f\"缺失值分布：\\n {df['语句'].isna().sum()}\")"
   ]
  },
  {
   "cell_type": "code",
   "execution_count": 6,
   "id": "3e6acb4b",
   "metadata": {},
   "outputs": [
    {
     "data": {
      "text/html": [
       "<div>\n",
       "<style scoped>\n",
       "    .dataframe tbody tr th:only-of-type {\n",
       "        vertical-align: middle;\n",
       "    }\n",
       "\n",
       "    .dataframe tbody tr th {\n",
       "        vertical-align: top;\n",
       "    }\n",
       "\n",
       "    .dataframe thead th {\n",
       "        text-align: right;\n",
       "    }\n",
       "</style>\n",
       "<table border=\"1\" class=\"dataframe\">\n",
       "  <thead>\n",
       "    <tr style=\"text-align: right;\">\n",
       "      <th></th>\n",
       "      <th>情感</th>\n",
       "      <th>语句</th>\n",
       "      <th>来源</th>\n",
       "    </tr>\n",
       "  </thead>\n",
       "  <tbody>\n",
       "    <tr>\n",
       "      <th>36723</th>\n",
       "      <td>中性</td>\n",
       "      <td>NaN</td>\n",
       "      <td>COLDataset</td>\n",
       "    </tr>\n",
       "    <tr>\n",
       "      <th>52766</th>\n",
       "      <td>辱骂</td>\n",
       "      <td>NaN</td>\n",
       "      <td>COLDataset</td>\n",
       "    </tr>\n",
       "    <tr>\n",
       "      <th>62669</th>\n",
       "      <td>辱骂</td>\n",
       "      <td>NaN</td>\n",
       "      <td>COLDataset</td>\n",
       "    </tr>\n",
       "  </tbody>\n",
       "</table>\n",
       "</div>"
      ],
      "text/plain": [
       "       情感   语句          来源\n",
       "36723  中性  NaN  COLDataset\n",
       "52766  辱骂  NaN  COLDataset\n",
       "62669  辱骂  NaN  COLDataset"
      ]
     },
     "execution_count": 6,
     "metadata": {},
     "output_type": "execute_result"
    }
   ],
   "source": [
    "df[df['语句'].isna()]"
   ]
  },
  {
   "cell_type": "code",
   "execution_count": 7,
   "id": "1012b81c",
   "metadata": {},
   "outputs": [
    {
     "name": "stdout",
     "output_type": "stream",
     "text": [
      "缺失值分布：\n",
      " 0\n",
      "样本数:(142831, 3)\n"
     ]
    }
   ],
   "source": [
    "df = df.dropna()\n",
    "print(f\"缺失值分布：\\n {df['语句'].isna().sum()}\")\n",
    "print(f'样本数:{df.shape}')"
   ]
  },
  {
   "cell_type": "code",
   "execution_count": 100,
   "id": "fe7b4aa5",
   "metadata": {},
   "outputs": [
    {
     "data": {
      "text/plain": [
       "'葡币就是澳门元'"
      ]
     },
     "execution_count": 100,
     "metadata": {},
     "output_type": "execute_result"
    }
   ],
   "source": [
    "# df['语句'].iloc[36723]\n",
    "# # df['语句'][36723]"
   ]
  },
  {
   "cell_type": "code",
   "execution_count": 8,
   "id": "a3d7eb5c",
   "metadata": {},
   "outputs": [
    {
     "name": "stdout",
     "output_type": "stream",
     "text": [
      "重复值：\n",
      " 10743，比例：7.521%\n"
     ]
    }
   ],
   "source": [
    "print(f\"重复值：\\n {df['语句'].duplicated().sum()}，比例：{np.round(100 * df['语句'].duplicated().sum() / len(df), 3)}%\")"
   ]
  },
  {
   "cell_type": "code",
   "execution_count": 9,
   "id": "4580bc7e",
   "metadata": {},
   "outputs": [
    {
     "data": {
      "text/plain": [
       "88                      价格要是能再低点就更好了！京东应该多搞特价活动!快递的服务态度不是很好\n",
       "134          国产代工，电池部分设计不合理，装上电池后，与键盘平行的那一面有一点点高起来，有可能与屏接触。\n",
       "194       我在买之前就看到很多人说装系统麻烦，果然不只一点点烦啊，一开始硬盘没找到。。。找了半天，不过...\n",
       "262       六心电池装在后面突出一大块影响美观，速度慢机器有点卡，放歌一停顿一停顿，重量比一般的上网本重...\n",
       "274       发热是普遍的，不过从07年我就开始使用的6515b的情况看，这个热是没有带来任何问题的，你不...\n",
       "                                ...                        \n",
       "142042                      动力稍稍有点不足，油耗有点小高，不知道是不是我不太会开的缘故。\n",
       "142048    感觉北汽幻速车噪音还是有点的，不过慢慢习惯了就好了，特别是车子起步时候，踩上油门时候有明显感...\n",
       "142056    最不满意的就是车子的动力还是有点不那么够用，一般家用的话应该是可以了，主要我是用来拉客偶尔也...\n",
       "142179    虽然我是新手，但是油耗对于1.5l排量的车确实高，百公里差不多9个油，还有就是挂2档的时候，...\n",
       "142552                                                 暂时没有\n",
       "Name: 语句, Length: 10743, dtype: object"
      ]
     },
     "execution_count": 9,
     "metadata": {},
     "output_type": "execute_result"
    }
   ],
   "source": [
    "df[df['语句'].duplicated() == True]['语句']  # 好奇怪？为啥会重复？"
   ]
  },
  {
   "cell_type": "code",
   "execution_count": 10,
   "id": "76a81c69",
   "metadata": {},
   "outputs": [],
   "source": [
    "# 处理“6666”纯数字的文本\n",
    "def handle_int(content):\n",
    "    if type(content) == int:\n",
    "        return str(content)\n",
    "    return content"
   ]
  },
  {
   "cell_type": "code",
   "execution_count": 11,
   "id": "90dde84c",
   "metadata": {},
   "outputs": [],
   "source": [
    "def remove_url(content):\n",
    "    url = re.compile(r'https?://\\S+|www\\.\\S+')\n",
    "    return url.sub(r'', content)"
   ]
  },
  {
   "cell_type": "code",
   "execution_count": 12,
   "id": "b0b1563b",
   "metadata": {},
   "outputs": [],
   "source": [
    "df['语句'] = df['语句'].apply(lambda x: handle_int(x))\n",
    "df['语句'] = df['语句'].apply(lambda x: remove_url(x))"
   ]
  },
  {
   "cell_type": "code",
   "execution_count": 13,
   "id": "bec8f3a5",
   "metadata": {},
   "outputs": [
    {
     "data": {
      "text/plain": [
       "{'SIGHAN2005_PKU_CONVSEG': 'https://file.hankcs.com/hanlp/tok/sighan2005-pku-convseg_20200110_153722.zip',\n",
       " 'SIGHAN2005_MSR_CONVSEG': 'https://file.hankcs.com/hanlp/tok/convseg-msr-nocrf-noembed_20200110_153524.zip',\n",
       " 'CTB6_CONVSEG': 'https://file.hankcs.com/hanlp/tok/ctb6_convseg_nowe_nocrf_20200110_004046.zip',\n",
       " 'PKU_NAME_MERGED_SIX_MONTHS_CONVSEG': 'https://file.hankcs.com/hanlp/tok/pku98_6m_conv_ngram_20200110_134736.zip',\n",
       " 'LARGE_ALBERT_BASE': 'https://file.hankcs.com/hanlp/tok/large_corpus_cws_albert_base_20211228_160926.zip',\n",
       " 'SIGHAN2005_PKU_BERT_BASE_ZH': 'https://file.hankcs.com/hanlp/tok/sighan2005_pku_bert_base_zh_20201231_141130.zip',\n",
       " 'COARSE_ELECTRA_SMALL_ZH': 'https://file.hankcs.com/hanlp/tok/coarse_electra_small_20220616_012050.zip',\n",
       " 'FINE_ELECTRA_SMALL_ZH': 'https://file.hankcs.com/hanlp/tok/fine_electra_small_20220615_231803.zip',\n",
       " 'CTB9_TOK_ELECTRA_SMALL': 'https://file.hankcs.com/hanlp/tok/ctb9_electra_small_20220215_205427.zip',\n",
       " 'CTB9_TOK_ELECTRA_BASE': 'http://download.hanlp.com/tok/extra/ctb9_tok_electra_base_20220426_111949.zip',\n",
       " 'CTB9_TOK_ELECTRA_BASE_CRF': 'http://download.hanlp.com/tok/extra/ctb9_tok_electra_base_crf_20220426_161255.zip',\n",
       " 'MSR_TOK_ELECTRA_BASE_CRF': 'http://download.hanlp.com/tok/extra/msra_crf_electra_base_20220507_113936.zip',\n",
       " 'UD_TOK_MMINILMV2L6': 'https://file.hankcs.com/hanlp/tok/ud_tok_mMiniLMv2L6_no_space_mul_20220619_091824.zip',\n",
       " 'UD_TOK_MMINILMV2L12': 'https://file.hankcs.com/hanlp/tok/ud_tok_mMiniLMv2L12_no_space_mul_20220619_091159.zip'}"
      ]
     },
     "execution_count": 13,
     "metadata": {},
     "output_type": "execute_result"
    }
   ],
   "source": [
    "hanlp.pretrained.tok.ALL"
   ]
  },
  {
   "cell_type": "code",
   "execution_count": 14,
   "id": "f693d584",
   "metadata": {},
   "outputs": [
    {
     "name": "stderr",
     "output_type": "stream",
     "text": [
      "                                             \r"
     ]
    }
   ],
   "source": [
    "tok = hanlp.load(hanlp.pretrained.tok.COARSE_ELECTRA_SMALL_ZH)"
   ]
  },
  {
   "cell_type": "code",
   "execution_count": 15,
   "id": "2c8975a6",
   "metadata": {},
   "outputs": [],
   "source": [
    "def tokenize(content):\n",
    "    seg_list = tok(content)\n",
    "    return ' '.join(seg_list)"
   ]
  },
  {
   "cell_type": "code",
   "execution_count": 16,
   "id": "b50fc8e5",
   "metadata": {},
   "outputs": [],
   "source": [
    "df['text_splited'] = df['语句'].apply(tokenize)"
   ]
  },
  {
   "cell_type": "code",
   "execution_count": 18,
   "id": "73c7bf59",
   "metadata": {},
   "outputs": [
    {
     "data": {
      "text/html": [
       "<div>\n",
       "<style scoped>\n",
       "    .dataframe tbody tr th:only-of-type {\n",
       "        vertical-align: middle;\n",
       "    }\n",
       "\n",
       "    .dataframe tbody tr th {\n",
       "        vertical-align: top;\n",
       "    }\n",
       "\n",
       "    .dataframe thead th {\n",
       "        text-align: right;\n",
       "    }\n",
       "</style>\n",
       "<table border=\"1\" class=\"dataframe\">\n",
       "  <thead>\n",
       "    <tr style=\"text-align: right;\">\n",
       "      <th></th>\n",
       "      <th>情感</th>\n",
       "      <th>语句</th>\n",
       "      <th>来源</th>\n",
       "      <th>text_splited</th>\n",
       "      <th>label</th>\n",
       "    </tr>\n",
       "  </thead>\n",
       "  <tbody>\n",
       "    <tr>\n",
       "      <th>87751</th>\n",
       "      <td>表扬</td>\n",
       "      <td>说到满意，那止一点呀，多了去了，外观真心漂亮，各方面看都不失大体，虽然是小型suv，但空间宽...</td>\n",
       "      <td>开源数据集</td>\n",
       "      <td>说到 满意 ， 那 止 一点 呀 ， 多 了 去 了 ， 外观 真心 漂亮 ， 各 方面 看...</td>\n",
       "      <td>3</td>\n",
       "    </tr>\n",
       "    <tr>\n",
       "      <th>130042</th>\n",
       "      <td>抱怨</td>\n",
       "      <td>不满意的还真没有，如果说非要鸡蛋里挑骨头说一下不满意，那就是动力了，确实有点肉，不过个人觉得够用。</td>\n",
       "      <td>开源数据集</td>\n",
       "      <td>不 满意 的 还 真 没有 ， 如果说 非要 鸡蛋里挑骨头 说 一下 不 满意 ， 那 就 ...</td>\n",
       "      <td>2</td>\n",
       "    </tr>\n",
       "    <tr>\n",
       "      <th>92867</th>\n",
       "      <td>抱怨</td>\n",
       "      <td>倒挡回空挡得用很大的力，档位不顺畅</td>\n",
       "      <td>开源数据集</td>\n",
       "      <td>倒 挡回 空挡 得 用 很 大 的 力 ， 档位 不 顺畅</td>\n",
       "      <td>2</td>\n",
       "    </tr>\n",
       "    <tr>\n",
       "      <th>48</th>\n",
       "      <td>抱怨</td>\n",
       "      <td>明显能看出来是低端本，塑料感很强，做工也仅仅比神船稍好。usb只有2个，且都在左边。散热很差...</td>\n",
       "      <td>总部</td>\n",
       "      <td>明显 能 看 出来 是 低端本 ， 塑料感 很 强 ， 做工 也 仅仅 比 神船 稍 好 。...</td>\n",
       "      <td>2</td>\n",
       "    </tr>\n",
       "    <tr>\n",
       "      <th>131938</th>\n",
       "      <td>抱怨</td>\n",
       "      <td>顶篷布边沿处理简单</td>\n",
       "      <td>开源数据集</td>\n",
       "      <td>顶篷布 边沿 处理 简单</td>\n",
       "      <td>2</td>\n",
       "    </tr>\n",
       "  </tbody>\n",
       "</table>\n",
       "</div>"
      ],
      "text/plain": [
       "        情感                                                 语句     来源  \\\n",
       "87751   表扬  说到满意，那止一点呀，多了去了，外观真心漂亮，各方面看都不失大体，虽然是小型suv，但空间宽...  开源数据集   \n",
       "130042  抱怨  不满意的还真没有，如果说非要鸡蛋里挑骨头说一下不满意，那就是动力了，确实有点肉，不过个人觉得够用。  开源数据集   \n",
       "92867   抱怨                                  倒挡回空挡得用很大的力，档位不顺畅  开源数据集   \n",
       "48      抱怨  明显能看出来是低端本，塑料感很强，做工也仅仅比神船稍好。usb只有2个，且都在左边。散热很差...     总部   \n",
       "131938  抱怨                                          顶篷布边沿处理简单  开源数据集   \n",
       "\n",
       "                                             text_splited  label  \n",
       "87751   说到 满意 ， 那 止 一点 呀 ， 多 了 去 了 ， 外观 真心 漂亮 ， 各 方面 看...      3  \n",
       "130042  不 满意 的 还 真 没有 ， 如果说 非要 鸡蛋里挑骨头 说 一下 不 满意 ， 那 就 ...      2  \n",
       "92867                       倒 挡回 空挡 得 用 很 大 的 力 ， 档位 不 顺畅      2  \n",
       "48      明显 能 看 出来 是 低端本 ， 塑料感 很 强 ， 做工 也 仅仅 比 神船 稍 好 。...      2  \n",
       "131938                                       顶篷布 边沿 处理 简单      2  "
      ]
     },
     "execution_count": 18,
     "metadata": {},
     "output_type": "execute_result"
    }
   ],
   "source": [
    "df.sample(5)"
   ]
  },
  {
   "cell_type": "code",
   "execution_count": 17,
   "id": "52cce694",
   "metadata": {},
   "outputs": [],
   "source": [
    "labels = LabelEncoder().fit(df['情感'])\n",
    "df['label'] = labels.transform(df['情感'])"
   ]
  },
  {
   "cell_type": "code",
   "execution_count": 19,
   "id": "154eb96c",
   "metadata": {},
   "outputs": [
    {
     "data": {
      "text/plain": [
       "2    37153\n",
       "3    35101\n",
       "1    30508\n",
       "0    21880\n",
       "4    18189\n",
       "Name: label, dtype: int64"
      ]
     },
     "execution_count": 19,
     "metadata": {},
     "output_type": "execute_result"
    }
   ],
   "source": [
    "df['label'].value_counts()"
   ]
  },
  {
   "cell_type": "code",
   "execution_count": 70,
   "id": "2122a4e4",
   "metadata": {},
   "outputs": [],
   "source": [
    "# 谨慎运行，这里会花很长时间\n",
    "tfidf = TfidfVectorizer()\n",
    "text_tfidf = tfidf.fit_transform(df['text_splited'])"
   ]
  },
  {
   "cell_type": "code",
   "execution_count": 71,
   "id": "8438a56e",
   "metadata": {},
   "outputs": [],
   "source": [
    "# tfidf.get_feature_names()"
   ]
  },
  {
   "cell_type": "code",
   "execution_count": 110,
   "id": "8c64519c",
   "metadata": {},
   "outputs": [],
   "source": [
    "RANDOM_SEED = 666"
   ]
  },
  {
   "cell_type": "code",
   "execution_count": 111,
   "id": "89218908",
   "metadata": {},
   "outputs": [],
   "source": [
    "classifiers = {\n",
    "    'LogisticRegression': LogisticRegression(random_state = RANDOM_SEED),\n",
    "    'RidgeClassifier': RidgeClassifier(random_state = RANDOM_SEED)\n",
    "}\n",
    "\n",
    "lr_grid = {\n",
    "    'penalty': ['l1', 'l2'],\n",
    "    'C': [0.25, 0.5, 0.75, 1.0, 1.25, 1.5],\n",
    "    'max_iter': [50, 100, 200]\n",
    "}\n",
    "\n",
    "rd_grid = {\n",
    "    'alpha': [0.25, 0.5, 0.75, 1.0, 1.25, 1.5],\n",
    "    'max_iter': [50, 100, 200]\n",
    "}\n",
    "\n",
    "grid_search_paramters = {\n",
    "    'LogisticRegression': lr_grid,\n",
    "    'RidgeClassifier': rd_grid\n",
    "}"
   ]
  },
  {
   "cell_type": "code",
   "execution_count": 112,
   "id": "0a3ff5b1",
   "metadata": {},
   "outputs": [],
   "source": [
    "X = text_tfidf\n",
    "y = df['label']\n",
    "X_train, X_test, y_train, y_test = train_test_split(X, y, stratify = y, test_size = 0.2)\n",
    "X_train_grid, X_val_grid, y_train_grid, y_val_grid = train_test_split(X_train, y_train, test_size = 0.1)"
   ]
  },
  {
   "cell_type": "code",
   "execution_count": 113,
   "id": "0d3d1ae6",
   "metadata": {},
   "outputs": [],
   "source": [
    "# clf_test = LogisticRegression()\n",
    "# clf_test.fit(X_test[:100], y_test[:100])\n",
    "# clf_test.predict(X_test[100: 200])"
   ]
  },
  {
   "cell_type": "code",
   "execution_count": 114,
   "id": "0bde468a",
   "metadata": {},
   "outputs": [],
   "source": [
    "i = 0\n",
    "clf_best_params = classifiers.copy()\n",
    "valid_scores = pd.DataFrame({'Classifier': classifiers.keys(), 'Validation accuracy': np.zeros(len(classifiers)), 'Training time (mins):': np.zeros(len(classifiers))})"
   ]
  },
  {
   "cell_type": "code",
   "execution_count": 115,
   "id": "6e346df3",
   "metadata": {},
   "outputs": [
    {
     "name": "stderr",
     "output_type": "stream",
     "text": [
      "D:\\ProgramData\\Anaconda3\\envs\\hoho_gym\\lib\\site-packages\\sklearn\\model_selection\\_validation.py:378: FitFailedWarning: \n",
      "90 fits failed out of a total of 180.\n",
      "The score on these train-test partitions for these parameters will be set to nan.\n",
      "If these failures are not expected, you can try to debug them by setting error_score='raise'.\n",
      "\n",
      "Below are more details about the failures:\n",
      "--------------------------------------------------------------------------------\n",
      "90 fits failed with the following error:\n",
      "Traceback (most recent call last):\n",
      "  File \"D:\\ProgramData\\Anaconda3\\envs\\hoho_gym\\lib\\site-packages\\sklearn\\model_selection\\_validation.py\", line 686, in _fit_and_score\n",
      "    estimator.fit(X_train, y_train, **fit_params)\n",
      "  File \"D:\\ProgramData\\Anaconda3\\envs\\hoho_gym\\lib\\site-packages\\sklearn\\linear_model\\_logistic.py\", line 1091, in fit\n",
      "    solver = _check_solver(self.solver, self.penalty, self.dual)\n",
      "  File \"D:\\ProgramData\\Anaconda3\\envs\\hoho_gym\\lib\\site-packages\\sklearn\\linear_model\\_logistic.py\", line 61, in _check_solver\n",
      "    raise ValueError(\n",
      "ValueError: Solver lbfgs supports only 'l2' or 'none' penalties, got l1 penalty.\n",
      "\n",
      "  warnings.warn(some_fits_failed_message, FitFailedWarning)\n",
      "D:\\ProgramData\\Anaconda3\\envs\\hoho_gym\\lib\\site-packages\\sklearn\\model_selection\\_search.py:953: UserWarning: One or more of the test scores are non-finite: [       nan 0.89486273        nan 0.89721598        nan 0.89725487\n",
      "        nan 0.89843148        nan 0.90452853        nan 0.90479107\n",
      "        nan 0.90104727        nan 0.90738743        nan 0.90782501\n",
      "        nan 0.90240865        nan 0.90911832        nan 0.9096337\n",
      "        nan 0.90228228        nan 0.91003239        nan 0.91020741\n",
      "        nan 0.90186412        nan 0.91030466        nan 0.91090755]\n",
      "  warnings.warn(\n",
      "D:\\ProgramData\\Anaconda3\\envs\\hoho_gym\\lib\\site-packages\\sklearn\\linear_model\\_logistic.py:444: ConvergenceWarning: lbfgs failed to converge (status=1):\n",
      "STOP: TOTAL NO. of ITERATIONS REACHED LIMIT.\n",
      "\n",
      "Increase the number of iterations (max_iter) or scale the data as shown in:\n",
      "    https://scikit-learn.org/stable/modules/preprocessing.html\n",
      "Please also refer to the documentation for alternative solver options:\n",
      "    https://scikit-learn.org/stable/modules/linear_model.html#logistic-regression\n",
      "  n_iter_i = _check_optimize_result(\n"
     ]
    },
    {
     "name": "stdout",
     "output_type": "stream",
     "text": [
      "Model: LogisticRegression\n",
      "Training time (mins): 5.79\n",
      "\n",
      "Model: RidgeClassifier\n",
      "Training time (mins): 0.968\n",
      "\n"
     ]
    }
   ],
   "source": [
    "for key, classifier in classifiers.items():\n",
    "    start = time.time()\n",
    "    \n",
    "    clf = GridSearchCV(estimator = classifier, param_grid = grid_search_paramters[key], n_jobs = -1, cv = None)\n",
    "    clf.fit(X_train_grid, y_train_grid)\n",
    "    valid_scores.iloc[i, 1] = clf.score(X_val_grid, y_val_grid)\n",
    "    \n",
    "    clf_best_params[key] = clf.best_params_\n",
    "    \n",
    "    stop = time.time()\n",
    "    valid_scores.iloc[i, 2] = np.round((stop - start) / 60, 3)\n",
    "    \n",
    "    print(f'Model: {key}')\n",
    "    print(f'Training time (mins): {valid_scores.iloc[i, 2]}')\n",
    "    print('')\n",
    "    \n",
    "    i += 1"
   ]
  },
  {
   "cell_type": "code",
   "execution_count": 119,
   "id": "5021dfa3",
   "metadata": {},
   "outputs": [
    {
     "data": {
      "text/html": [
       "<div>\n",
       "<style scoped>\n",
       "    .dataframe tbody tr th:only-of-type {\n",
       "        vertical-align: middle;\n",
       "    }\n",
       "\n",
       "    .dataframe tbody tr th {\n",
       "        vertical-align: top;\n",
       "    }\n",
       "\n",
       "    .dataframe thead th {\n",
       "        text-align: right;\n",
       "    }\n",
       "</style>\n",
       "<table border=\"1\" class=\"dataframe\">\n",
       "  <thead>\n",
       "    <tr style=\"text-align: right;\">\n",
       "      <th></th>\n",
       "      <th>Classifier</th>\n",
       "      <th>Validation accuracy</th>\n",
       "      <th>Training time (mins):</th>\n",
       "    </tr>\n",
       "  </thead>\n",
       "  <tbody>\n",
       "    <tr>\n",
       "      <th>0</th>\n",
       "      <td>LogisticRegression</td>\n",
       "      <td>0.911875</td>\n",
       "      <td>5.790</td>\n",
       "    </tr>\n",
       "    <tr>\n",
       "      <th>1</th>\n",
       "      <td>RidgeClassifier</td>\n",
       "      <td>0.908375</td>\n",
       "      <td>0.968</td>\n",
       "    </tr>\n",
       "  </tbody>\n",
       "</table>\n",
       "</div>"
      ],
      "text/plain": [
       "           Classifier  Validation accuracy  Training time (mins):\n",
       "0  LogisticRegression             0.911875                  5.790\n",
       "1     RidgeClassifier             0.908375                  0.968"
      ]
     },
     "execution_count": 119,
     "metadata": {},
     "output_type": "execute_result"
    }
   ],
   "source": [
    "valid_scores"
   ]
  },
  {
   "cell_type": "code",
   "execution_count": 120,
   "id": "de7a4cf6",
   "metadata": {},
   "outputs": [
    {
     "data": {
      "text/plain": [
       "{'LogisticRegression': {'C': 1.5, 'max_iter': 200, 'penalty': 'l2'},\n",
       " 'RidgeClassifier': {'alpha': 1.5, 'max_iter': 50}}"
      ]
     },
     "execution_count": 120,
     "metadata": {},
     "output_type": "execute_result"
    }
   ],
   "source": [
    "clf_best_params"
   ]
  },
  {
   "cell_type": "code",
   "execution_count": 121,
   "id": "f049c914",
   "metadata": {},
   "outputs": [],
   "source": [
    "best_classifiers = {\n",
    "    'LogisticRegression': LogisticRegression(**clf_best_params['LogisticRegression'], random_state = RANDOM_SEED)\n",
    "}"
   ]
  },
  {
   "cell_type": "code",
   "execution_count": 133,
   "id": "5b6ef3d6",
   "metadata": {},
   "outputs": [
    {
     "name": "stderr",
     "output_type": "stream",
     "text": [
      "D:\\ProgramData\\Anaconda3\\envs\\hoho_gym\\lib\\site-packages\\sklearn\\linear_model\\_logistic.py:444: ConvergenceWarning: lbfgs failed to converge (status=1):\n",
      "STOP: TOTAL NO. of ITERATIONS REACHED LIMIT.\n",
      "\n",
      "Increase the number of iterations (max_iter) or scale the data as shown in:\n",
      "    https://scikit-learn.org/stable/modules/preprocessing.html\n",
      "Please also refer to the documentation for alternative solver options:\n",
      "    https://scikit-learn.org/stable/modules/linear_model.html#logistic-regression\n",
      "  n_iter_i = _check_optimize_result(\n",
      "D:\\ProgramData\\Anaconda3\\envs\\hoho_gym\\lib\\site-packages\\sklearn\\linear_model\\_logistic.py:444: ConvergenceWarning: lbfgs failed to converge (status=1):\n",
      "STOP: TOTAL NO. of ITERATIONS REACHED LIMIT.\n",
      "\n",
      "Increase the number of iterations (max_iter) or scale the data as shown in:\n",
      "    https://scikit-learn.org/stable/modules/preprocessing.html\n",
      "Please also refer to the documentation for alternative solver options:\n",
      "    https://scikit-learn.org/stable/modules/linear_model.html#logistic-regression\n",
      "  n_iter_i = _check_optimize_result(\n",
      "D:\\ProgramData\\Anaconda3\\envs\\hoho_gym\\lib\\site-packages\\sklearn\\linear_model\\_logistic.py:444: ConvergenceWarning: lbfgs failed to converge (status=1):\n",
      "STOP: TOTAL NO. of ITERATIONS REACHED LIMIT.\n",
      "\n",
      "Increase the number of iterations (max_iter) or scale the data as shown in:\n",
      "    https://scikit-learn.org/stable/modules/preprocessing.html\n",
      "Please also refer to the documentation for alternative solver options:\n",
      "    https://scikit-learn.org/stable/modules/linear_model.html#logistic-regression\n",
      "  n_iter_i = _check_optimize_result(\n",
      "D:\\ProgramData\\Anaconda3\\envs\\hoho_gym\\lib\\site-packages\\sklearn\\linear_model\\_logistic.py:444: ConvergenceWarning: lbfgs failed to converge (status=1):\n",
      "STOP: TOTAL NO. of ITERATIONS REACHED LIMIT.\n",
      "\n",
      "Increase the number of iterations (max_iter) or scale the data as shown in:\n",
      "    https://scikit-learn.org/stable/modules/preprocessing.html\n",
      "Please also refer to the documentation for alternative solver options:\n",
      "    https://scikit-learn.org/stable/modules/linear_model.html#logistic-regression\n",
      "  n_iter_i = _check_optimize_result(\n",
      "D:\\ProgramData\\Anaconda3\\envs\\hoho_gym\\lib\\site-packages\\sklearn\\linear_model\\_logistic.py:444: ConvergenceWarning: lbfgs failed to converge (status=1):\n",
      "STOP: TOTAL NO. of ITERATIONS REACHED LIMIT.\n",
      "\n",
      "Increase the number of iterations (max_iter) or scale the data as shown in:\n",
      "    https://scikit-learn.org/stable/modules/preprocessing.html\n",
      "Please also refer to the documentation for alternative solver options:\n",
      "    https://scikit-learn.org/stable/modules/linear_model.html#logistic-regression\n",
      "  n_iter_i = _check_optimize_result(\n",
      "D:\\ProgramData\\Anaconda3\\envs\\hoho_gym\\lib\\site-packages\\sklearn\\linear_model\\_logistic.py:444: ConvergenceWarning: lbfgs failed to converge (status=1):\n",
      "STOP: TOTAL NO. of ITERATIONS REACHED LIMIT.\n",
      "\n",
      "Increase the number of iterations (max_iter) or scale the data as shown in:\n",
      "    https://scikit-learn.org/stable/modules/preprocessing.html\n",
      "Please also refer to the documentation for alternative solver options:\n",
      "    https://scikit-learn.org/stable/modules/linear_model.html#logistic-regression\n",
      "  n_iter_i = _check_optimize_result(\n",
      "D:\\ProgramData\\Anaconda3\\envs\\hoho_gym\\lib\\site-packages\\sklearn\\linear_model\\_logistic.py:444: ConvergenceWarning: lbfgs failed to converge (status=1):\n",
      "STOP: TOTAL NO. of ITERATIONS REACHED LIMIT.\n",
      "\n",
      "Increase the number of iterations (max_iter) or scale the data as shown in:\n",
      "    https://scikit-learn.org/stable/modules/preprocessing.html\n",
      "Please also refer to the documentation for alternative solver options:\n",
      "    https://scikit-learn.org/stable/modules/linear_model.html#logistic-regression\n",
      "  n_iter_i = _check_optimize_result(\n",
      "D:\\ProgramData\\Anaconda3\\envs\\hoho_gym\\lib\\site-packages\\sklearn\\linear_model\\_logistic.py:444: ConvergenceWarning: lbfgs failed to converge (status=1):\n",
      "STOP: TOTAL NO. of ITERATIONS REACHED LIMIT.\n",
      "\n",
      "Increase the number of iterations (max_iter) or scale the data as shown in:\n",
      "    https://scikit-learn.org/stable/modules/preprocessing.html\n",
      "Please also refer to the documentation for alternative solver options:\n",
      "    https://scikit-learn.org/stable/modules/linear_model.html#logistic-regression\n",
      "  n_iter_i = _check_optimize_result(\n",
      "D:\\ProgramData\\Anaconda3\\envs\\hoho_gym\\lib\\site-packages\\sklearn\\linear_model\\_logistic.py:444: ConvergenceWarning: lbfgs failed to converge (status=1):\n",
      "STOP: TOTAL NO. of ITERATIONS REACHED LIMIT.\n",
      "\n",
      "Increase the number of iterations (max_iter) or scale the data as shown in:\n",
      "    https://scikit-learn.org/stable/modules/preprocessing.html\n",
      "Please also refer to the documentation for alternative solver options:\n",
      "    https://scikit-learn.org/stable/modules/linear_model.html#logistic-regression\n",
      "  n_iter_i = _check_optimize_result(\n"
     ]
    },
    {
     "name": "stdout",
     "output_type": "stream",
     "text": [
      "Model: LogisticRegression\n",
      "Average validation accuracy: 91.313%\n",
      "Training time (mins): (3.0, 3)\n"
     ]
    },
    {
     "name": "stderr",
     "output_type": "stream",
     "text": [
      "D:\\ProgramData\\Anaconda3\\envs\\hoho_gym\\lib\\site-packages\\sklearn\\linear_model\\_logistic.py:444: ConvergenceWarning: lbfgs failed to converge (status=1):\n",
      "STOP: TOTAL NO. of ITERATIONS REACHED LIMIT.\n",
      "\n",
      "Increase the number of iterations (max_iter) or scale the data as shown in:\n",
      "    https://scikit-learn.org/stable/modules/preprocessing.html\n",
      "Please also refer to the documentation for alternative solver options:\n",
      "    https://scikit-learn.org/stable/modules/linear_model.html#logistic-regression\n",
      "  n_iter_i = _check_optimize_result(\n"
     ]
    }
   ],
   "source": [
    "FOLDS = 10\n",
    "# preds = np.zeros(len(X_test))\n",
    "X_final = X_train\n",
    "y_final = np.array(y_train)\n",
    "for key, classifier in best_classifiers.items():\n",
    "    start = time.time()\n",
    "    cv = StratifiedKFold(n_splits = 10, shuffle = True, random_state = RANDOM_SEED)\n",
    "    score = 0\n",
    "    for fold , (train_idx, val_idx) in enumerate(cv.split(X_final, y_final)):\n",
    "        X_train_cv, X_valid_cv = X_final[train_idx], X_final[val_idx]\n",
    "        y_train_cv, y_valid_cv = y_final[train_idx], y_final[val_idx]\n",
    "        \n",
    "        classifier.fit(X_train_cv, y_train_cv)\n",
    "        score += classifier.score(X_valid_cv, y_valid_cv)\n",
    "#         preds += classifier.predict_proba(X_test)[:, 1]\n",
    "    \n",
    "    score = score / FOLDS\n",
    "    stop = time.time()\n",
    "    \n",
    "    print(f'Model: {key}')\n",
    "    print(f'Average validation accuracy: {np.round(100 * score, 3)}%')\n",
    "    print(f'Training time (mins): {np.round((stop - start) / 60, 3)}')"
   ]
  },
  {
   "cell_type": "code",
   "execution_count": null,
   "id": "0f69c9e2",
   "metadata": {},
   "outputs": [],
   "source": []
  }
 ],
 "metadata": {
  "kernelspec": {
   "display_name": "Python 3 (ipykernel)",
   "language": "python",
   "name": "python3"
  },
  "language_info": {
   "codemirror_mode": {
    "name": "ipython",
    "version": 3
   },
   "file_extension": ".py",
   "mimetype": "text/x-python",
   "name": "python",
   "nbconvert_exporter": "python",
   "pygments_lexer": "ipython3",
   "version": "3.9.7"
  }
 },
 "nbformat": 4,
 "nbformat_minor": 5
}
