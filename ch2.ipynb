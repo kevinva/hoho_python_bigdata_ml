{
 "cells": [
  {
   "cell_type": "code",
   "execution_count": 24,
   "id": "75a2621c",
   "metadata": {},
   "outputs": [],
   "source": [
    "import pandas as pd\n",
    "import numpy as np"
   ]
  },
  {
   "cell_type": "code",
   "execution_count": null,
   "id": "d2132f34",
   "metadata": {},
   "outputs": [],
   "source": [
    "data = pd.DataFrame(np.arange(1, 10).reshape(3, 3), index=['r1', 'r2', 'r3'], columns=['c1', 'c2', 'c3'])"
   ]
  },
  {
   "cell_type": "code",
   "execution_count": null,
   "id": "4ff3ed10",
   "metadata": {},
   "outputs": [],
   "source": [
    "data"
   ]
  },
  {
   "cell_type": "code",
   "execution_count": null,
   "id": "f6cab913",
   "metadata": {},
   "outputs": [],
   "source": [
    "data['c1']"
   ]
  },
  {
   "cell_type": "code",
   "execution_count": null,
   "id": "7b376c86",
   "metadata": {},
   "outputs": [],
   "source": [
    "data[['c1']]"
   ]
  },
  {
   "cell_type": "code",
   "execution_count": null,
   "id": "1873f636",
   "metadata": {},
   "outputs": [],
   "source": [
    "data.iloc[[1]]"
   ]
  },
  {
   "cell_type": "code",
   "execution_count": null,
   "id": "f392c996",
   "metadata": {},
   "outputs": [],
   "source": [
    "data.iloc[1:3]"
   ]
  },
  {
   "cell_type": "code",
   "execution_count": null,
   "id": "72ff811c",
   "metadata": {},
   "outputs": [],
   "source": [
    "data.iloc[-1]"
   ]
  },
  {
   "cell_type": "code",
   "execution_count": null,
   "id": "73bf2136",
   "metadata": {},
   "outputs": [],
   "source": [
    "data.loc[['r2']]"
   ]
  },
  {
   "cell_type": "code",
   "execution_count": null,
   "id": "890644e6",
   "metadata": {},
   "outputs": [],
   "source": [
    "data.loc[['r2', 'r1']]"
   ]
  },
  {
   "cell_type": "code",
   "execution_count": null,
   "id": "27594cc3",
   "metadata": {},
   "outputs": [],
   "source": [
    "data.iloc[0]['c3']"
   ]
  },
  {
   "cell_type": "code",
   "execution_count": null,
   "id": "4c4f8471",
   "metadata": {},
   "outputs": [],
   "source": [
    "data.iloc[[0, 1]][['c1', 'c3']]"
   ]
  },
  {
   "cell_type": "code",
   "execution_count": null,
   "id": "8f46b467",
   "metadata": {},
   "outputs": [],
   "source": [
    "data[data['c1'] > 1]"
   ]
  },
  {
   "cell_type": "code",
   "execution_count": null,
   "id": "0b383076",
   "metadata": {},
   "outputs": [],
   "source": [
    "data.value_counts()"
   ]
  },
  {
   "cell_type": "code",
   "execution_count": null,
   "id": "f3c1f0d4",
   "metadata": {},
   "outputs": [],
   "source": [
    "data.describe()"
   ]
  },
  {
   "cell_type": "code",
   "execution_count": null,
   "id": "3388aeb8",
   "metadata": {},
   "outputs": [],
   "source": [
    "a = data.sort_values(by='c2', ascending=False)"
   ]
  },
  {
   "cell_type": "code",
   "execution_count": null,
   "id": "bec6e155",
   "metadata": {},
   "outputs": [],
   "source": [
    "a"
   ]
  },
  {
   "cell_type": "code",
   "execution_count": null,
   "id": "d99b354a",
   "metadata": {},
   "outputs": [],
   "source": [
    "a = data.drop(columns=['c1'])"
   ]
  },
  {
   "cell_type": "code",
   "execution_count": null,
   "id": "9bbd2f7d",
   "metadata": {},
   "outputs": [],
   "source": [
    "a"
   ]
  },
  {
   "cell_type": "code",
   "execution_count": null,
   "id": "e40ee72b",
   "metadata": {},
   "outputs": [],
   "source": [
    "df1 = pd.DataFrame({'公司': ['万科', '阿里', '百度'], '分数': [90.0, 95.0, 85.0]})\n",
    "df2 = pd.DataFrame({'公司': ['万科', '阿里', '京东'], '股价': [20.0, 180.0, 30.0]})"
   ]
  },
  {
   "cell_type": "code",
   "execution_count": null,
   "id": "0bbde8dd",
   "metadata": {},
   "outputs": [],
   "source": [
    "pd.merge(df1, df2)"
   ]
  },
  {
   "cell_type": "code",
   "execution_count": null,
   "id": "ff16c945",
   "metadata": {},
   "outputs": [],
   "source": [
    "pd.merge(df1, df2, how='outer')"
   ]
  },
  {
   "cell_type": "code",
   "execution_count": null,
   "id": "4f0a23bd",
   "metadata": {},
   "outputs": [],
   "source": [
    "pd.concat([df1, df2], axis=0, ignore_index=True)"
   ]
  },
  {
   "cell_type": "code",
   "execution_count": null,
   "id": "723fe920",
   "metadata": {},
   "outputs": [],
   "source": []
  },
  {
   "cell_type": "code",
   "execution_count": 25,
   "id": "6cbae7e6",
   "metadata": {},
   "outputs": [],
   "source": [
    "import matplotlib.pyplot as plt"
   ]
  },
  {
   "cell_type": "code",
   "execution_count": null,
   "id": "6ffbe508",
   "metadata": {},
   "outputs": [],
   "source": [
    "x1 = np.array([1, 2, 3])\n",
    "y1 = x1 + 1\n",
    "plt.plot(x1, y1)"
   ]
  },
  {
   "cell_type": "code",
   "execution_count": null,
   "id": "c5ce6333",
   "metadata": {},
   "outputs": [],
   "source": [
    "data = np.random.randn(10000)\n",
    "plt.hist(data, bins=40, edgecolor='black')"
   ]
  },
  {
   "cell_type": "code",
   "execution_count": null,
   "id": "beeb83cc",
   "metadata": {},
   "outputs": [],
   "source": [
    "x1 = np.array([10, 20, 30])\n",
    "y1 = x1\n",
    "plt.plot(x1, y1, color='red', linestyle='--', label='y=x')\n",
    "plt.legend(loc='upper left')\n",
    "\n",
    "plt.twinx()\n",
    "\n",
    "y2 = x1 ** 2\n",
    "plt.plot(x1, y2, label='y=x^2')\n",
    "plt.legend(loc='upper right')"
   ]
  },
  {
   "cell_type": "code",
   "execution_count": null,
   "id": "9adefead",
   "metadata": {},
   "outputs": [],
   "source": []
  },
  {
   "cell_type": "code",
   "execution_count": 3,
   "id": "82422c0a",
   "metadata": {},
   "outputs": [],
   "source": [
    "import tushare as ts\n",
    "import mplfinance as mpf\n",
    "import seaborn as sns\n",
    "sns.set()"
   ]
  },
  {
   "cell_type": "code",
   "execution_count": 4,
   "id": "5d876355",
   "metadata": {},
   "outputs": [
    {
     "name": "stdout",
     "output_type": "stream",
     "text": [
      "本接口即将停止更新，请尽快使用Pro版接口：https://tushare.pro/document/2\n"
     ]
    },
    {
     "name": "stderr",
     "output_type": "stream",
     "text": [
      "/opt/anaconda3/envs/hoho_RL/lib/python3.9/site-packages/tushare/stock/trading.py:706: FutureWarning: The frame.append method is deprecated and will be removed from pandas in a future version. Use pandas.concat instead.\n",
      "  data = data.append(_get_k_data(url, dataflag,\n",
      "/opt/anaconda3/envs/hoho_RL/lib/python3.9/site-packages/tushare/stock/trading.py:706: FutureWarning: The frame.append method is deprecated and will be removed from pandas in a future version. Use pandas.concat instead.\n",
      "  data = data.append(_get_k_data(url, dataflag,\n",
      "/opt/anaconda3/envs/hoho_RL/lib/python3.9/site-packages/tushare/stock/trading.py:706: FutureWarning: The frame.append method is deprecated and will be removed from pandas in a future version. Use pandas.concat instead.\n",
      "  data = data.append(_get_k_data(url, dataflag,\n",
      "/opt/anaconda3/envs/hoho_RL/lib/python3.9/site-packages/tushare/stock/trading.py:706: FutureWarning: The frame.append method is deprecated and will be removed from pandas in a future version. Use pandas.concat instead.\n",
      "  data = data.append(_get_k_data(url, dataflag,\n",
      "/opt/anaconda3/envs/hoho_RL/lib/python3.9/site-packages/tushare/stock/trading.py:706: FutureWarning: The frame.append method is deprecated and will be removed from pandas in a future version. Use pandas.concat instead.\n",
      "  data = data.append(_get_k_data(url, dataflag,\n",
      "/opt/anaconda3/envs/hoho_RL/lib/python3.9/site-packages/tushare/stock/trading.py:706: FutureWarning: The frame.append method is deprecated and will be removed from pandas in a future version. Use pandas.concat instead.\n",
      "  data = data.append(_get_k_data(url, dataflag,\n"
     ]
    }
   ],
   "source": [
    "df = ts.get_k_data('000002', start='2009-01-01', end='2019-01-01')"
   ]
  },
  {
   "cell_type": "code",
   "execution_count": 5,
   "id": "5bc98ef7",
   "metadata": {},
   "outputs": [
    {
     "data": {
      "text/html": [
       "<div>\n",
       "<style scoped>\n",
       "    .dataframe tbody tr th:only-of-type {\n",
       "        vertical-align: middle;\n",
       "    }\n",
       "\n",
       "    .dataframe tbody tr th {\n",
       "        vertical-align: top;\n",
       "    }\n",
       "\n",
       "    .dataframe thead th {\n",
       "        text-align: right;\n",
       "    }\n",
       "</style>\n",
       "<table border=\"1\" class=\"dataframe\">\n",
       "  <thead>\n",
       "    <tr style=\"text-align: right;\">\n",
       "      <th></th>\n",
       "      <th>date</th>\n",
       "      <th>open</th>\n",
       "      <th>close</th>\n",
       "      <th>high</th>\n",
       "      <th>low</th>\n",
       "      <th>volume</th>\n",
       "      <th>code</th>\n",
       "    </tr>\n",
       "  </thead>\n",
       "  <tbody>\n",
       "    <tr>\n",
       "      <th>0</th>\n",
       "      <td>2009-01-05</td>\n",
       "      <td>-0.582</td>\n",
       "      <td>-0.462</td>\n",
       "      <td>-0.462</td>\n",
       "      <td>-0.682</td>\n",
       "      <td>936048.88</td>\n",
       "      <td>000002</td>\n",
       "    </tr>\n",
       "    <tr>\n",
       "      <th>1</th>\n",
       "      <td>2009-01-06</td>\n",
       "      <td>-0.482</td>\n",
       "      <td>-0.262</td>\n",
       "      <td>-0.212</td>\n",
       "      <td>-0.552</td>\n",
       "      <td>1216831.18</td>\n",
       "      <td>000002</td>\n",
       "    </tr>\n",
       "    <tr>\n",
       "      <th>2</th>\n",
       "      <td>2009-01-07</td>\n",
       "      <td>-0.232</td>\n",
       "      <td>-0.302</td>\n",
       "      <td>-0.102</td>\n",
       "      <td>-0.302</td>\n",
       "      <td>834829.31</td>\n",
       "      <td>000002</td>\n",
       "    </tr>\n",
       "    <tr>\n",
       "      <th>3</th>\n",
       "      <td>2009-01-08</td>\n",
       "      <td>-0.412</td>\n",
       "      <td>-0.262</td>\n",
       "      <td>-0.162</td>\n",
       "      <td>-0.482</td>\n",
       "      <td>837661.70</td>\n",
       "      <td>000002</td>\n",
       "    </tr>\n",
       "    <tr>\n",
       "      <th>4</th>\n",
       "      <td>2009-01-09</td>\n",
       "      <td>-0.262</td>\n",
       "      <td>-0.272</td>\n",
       "      <td>-0.152</td>\n",
       "      <td>-0.352</td>\n",
       "      <td>626815.66</td>\n",
       "      <td>000002</td>\n",
       "    </tr>\n",
       "  </tbody>\n",
       "</table>\n",
       "</div>"
      ],
      "text/plain": [
       "         date   open  close   high    low      volume    code\n",
       "0  2009-01-05 -0.582 -0.462 -0.462 -0.682   936048.88  000002\n",
       "1  2009-01-06 -0.482 -0.262 -0.212 -0.552  1216831.18  000002\n",
       "2  2009-01-07 -0.232 -0.302 -0.102 -0.302   834829.31  000002\n",
       "3  2009-01-08 -0.412 -0.262 -0.162 -0.482   837661.70  000002\n",
       "4  2009-01-09 -0.262 -0.272 -0.152 -0.352   626815.66  000002"
      ]
     },
     "execution_count": 5,
     "metadata": {},
     "output_type": "execute_result"
    }
   ],
   "source": [
    "df.head()"
   ]
  },
  {
   "cell_type": "code",
   "execution_count": 6,
   "id": "789ca8c9",
   "metadata": {},
   "outputs": [],
   "source": [
    "df.to_csv('stock_value.csv', index=False)"
   ]
  },
  {
   "cell_type": "code",
   "execution_count": 8,
   "id": "7684381f",
   "metadata": {},
   "outputs": [],
   "source": [
    "df.set_index('date', inplace=True)"
   ]
  },
  {
   "cell_type": "code",
   "execution_count": 9,
   "id": "43c8532c",
   "metadata": {},
   "outputs": [
    {
     "data": {
      "text/html": [
       "<div>\n",
       "<style scoped>\n",
       "    .dataframe tbody tr th:only-of-type {\n",
       "        vertical-align: middle;\n",
       "    }\n",
       "\n",
       "    .dataframe tbody tr th {\n",
       "        vertical-align: top;\n",
       "    }\n",
       "\n",
       "    .dataframe thead th {\n",
       "        text-align: right;\n",
       "    }\n",
       "</style>\n",
       "<table border=\"1\" class=\"dataframe\">\n",
       "  <thead>\n",
       "    <tr style=\"text-align: right;\">\n",
       "      <th></th>\n",
       "      <th>open</th>\n",
       "      <th>close</th>\n",
       "      <th>high</th>\n",
       "      <th>low</th>\n",
       "      <th>volume</th>\n",
       "      <th>code</th>\n",
       "    </tr>\n",
       "    <tr>\n",
       "      <th>date</th>\n",
       "      <th></th>\n",
       "      <th></th>\n",
       "      <th></th>\n",
       "      <th></th>\n",
       "      <th></th>\n",
       "      <th></th>\n",
       "    </tr>\n",
       "  </thead>\n",
       "  <tbody>\n",
       "    <tr>\n",
       "      <th>2009-01-05</th>\n",
       "      <td>-0.582</td>\n",
       "      <td>-0.462</td>\n",
       "      <td>-0.462</td>\n",
       "      <td>-0.682</td>\n",
       "      <td>936048.88</td>\n",
       "      <td>000002</td>\n",
       "    </tr>\n",
       "    <tr>\n",
       "      <th>2009-01-06</th>\n",
       "      <td>-0.482</td>\n",
       "      <td>-0.262</td>\n",
       "      <td>-0.212</td>\n",
       "      <td>-0.552</td>\n",
       "      <td>1216831.18</td>\n",
       "      <td>000002</td>\n",
       "    </tr>\n",
       "    <tr>\n",
       "      <th>2009-01-07</th>\n",
       "      <td>-0.232</td>\n",
       "      <td>-0.302</td>\n",
       "      <td>-0.102</td>\n",
       "      <td>-0.302</td>\n",
       "      <td>834829.31</td>\n",
       "      <td>000002</td>\n",
       "    </tr>\n",
       "    <tr>\n",
       "      <th>2009-01-08</th>\n",
       "      <td>-0.412</td>\n",
       "      <td>-0.262</td>\n",
       "      <td>-0.162</td>\n",
       "      <td>-0.482</td>\n",
       "      <td>837661.70</td>\n",
       "      <td>000002</td>\n",
       "    </tr>\n",
       "    <tr>\n",
       "      <th>2009-01-09</th>\n",
       "      <td>-0.262</td>\n",
       "      <td>-0.272</td>\n",
       "      <td>-0.152</td>\n",
       "      <td>-0.352</td>\n",
       "      <td>626815.66</td>\n",
       "      <td>000002</td>\n",
       "    </tr>\n",
       "  </tbody>\n",
       "</table>\n",
       "</div>"
      ],
      "text/plain": [
       "             open  close   high    low      volume    code\n",
       "date                                                      \n",
       "2009-01-05 -0.582 -0.462 -0.462 -0.682   936048.88  000002\n",
       "2009-01-06 -0.482 -0.262 -0.212 -0.552  1216831.18  000002\n",
       "2009-01-07 -0.232 -0.302 -0.102 -0.302   834829.31  000002\n",
       "2009-01-08 -0.412 -0.262 -0.162 -0.482   837661.70  000002\n",
       "2009-01-09 -0.262 -0.272 -0.152 -0.352   626815.66  000002"
      ]
     },
     "execution_count": 9,
     "metadata": {},
     "output_type": "execute_result"
    }
   ],
   "source": [
    "df.head()"
   ]
  },
  {
   "cell_type": "code",
   "execution_count": 10,
   "id": "dcfef310",
   "metadata": {},
   "outputs": [
    {
     "data": {
      "text/plain": [
       "<AxesSubplot:xlabel='date'>"
      ]
     },
     "execution_count": 10,
     "metadata": {},
     "output_type": "execute_result"
    },
    {
     "data": {
      "image/png": "[encoded data removed]",
      "text/plain": [
       "<Figure size 432x288 with 1 Axes>"
      ]
     },
     "metadata": {
      "needs_background": "light"
     },
     "output_type": "display_data"
    }
   ],
   "source": [
    "df['close'].plot()"
   ]
  },
  {
   "cell_type": "code",
   "execution_count": 12,
   "id": "a1f5135c",
   "metadata": {},
   "outputs": [
    {
     "data": {
      "text/plain": [
       "date\n",
       "2009-01-05    -0.462\n",
       "2009-01-06    -0.262\n",
       "2009-01-07    -0.302\n",
       "2009-01-08    -0.262\n",
       "2009-01-09    -0.272\n",
       "               ...  \n",
       "2018-12-24    20.568\n",
       "2018-12-25    20.658\n",
       "2018-12-26    20.488\n",
       "2018-12-27    20.128\n",
       "2018-12-28    20.508\n",
       "Name: close, Length: 2274, dtype: float64"
      ]
     },
     "execution_count": 12,
     "metadata": {},
     "output_type": "execute_result"
    }
   ],
   "source": [
    "df['close']"
   ]
  },
  {
   "cell_type": "code",
   "execution_count": 4,
   "id": "ae3ad7d6",
   "metadata": {},
   "outputs": [],
   "source": [
    "from matplotlib.pylab import date2num\n",
    "import datetime"
   ]
  },
  {
   "cell_type": "code",
   "execution_count": 5,
   "id": "dea39b3d",
   "metadata": {},
   "outputs": [],
   "source": [
    "def date_to_num(dates):\n",
    "    num_time = []\n",
    "    for date in dates:\n",
    "        date_time = datetime.datetime.strptime(date, '%Y-%m-%d')\n",
    "        num_date = date2num(date_time)\n",
    "        num_time.append(num_date)\n",
    "    return num_time"
   ]
  },
  {
   "cell_type": "code",
   "execution_count": 15,
   "id": "f946d675",
   "metadata": {},
   "outputs": [
    {
     "name": "stdout",
     "output_type": "stream",
     "text": [
      "本接口即将停止更新，请尽快使用Pro版接口：https://tushare.pro/document/2\n"
     ]
    },
    {
     "name": "stderr",
     "output_type": "stream",
     "text": [
      "/opt/anaconda3/envs/hoho_RL/lib/python3.9/site-packages/tushare/stock/trading.py:706: FutureWarning: The frame.append method is deprecated and will be removed from pandas in a future version. Use pandas.concat instead.\n",
      "  data = data.append(_get_k_data(url, dataflag,\n"
     ]
    }
   ],
   "source": [
    "df = ts.get_k_data('000002', start='2019-06-01', end='2019-09-30')"
   ]
  },
  {
   "cell_type": "code",
   "execution_count": 7,
   "id": "5af68407",
   "metadata": {},
   "outputs": [],
   "source": [
    "# df_arr = df.values"
   ]
  },
  {
   "cell_type": "code",
   "execution_count": 8,
   "id": "9f6cb9fe",
   "metadata": {},
   "outputs": [],
   "source": [
    "# df_arr[:, 0] = date_to_num(df_arr[:, 0])"
   ]
  },
  {
   "cell_type": "code",
   "execution_count": 16,
   "id": "fdf041b7",
   "metadata": {},
   "outputs": [],
   "source": [
    "# df.set_index('date')\n",
    "df.index = pd.to_datetime(df.date)"
   ]
  },
  {
   "cell_type": "code",
   "execution_count": 17,
   "id": "03c516ee",
   "metadata": {},
   "outputs": [
    {
     "data": {
      "text/html": [
       "<div>\n",
       "<style scoped>\n",
       "    .dataframe tbody tr th:only-of-type {\n",
       "        vertical-align: middle;\n",
       "    }\n",
       "\n",
       "    .dataframe tbody tr th {\n",
       "        vertical-align: top;\n",
       "    }\n",
       "\n",
       "    .dataframe thead th {\n",
       "        text-align: right;\n",
       "    }\n",
       "</style>\n",
       "<table border=\"1\" class=\"dataframe\">\n",
       "  <thead>\n",
       "    <tr style=\"text-align: right;\">\n",
       "      <th></th>\n",
       "      <th>date</th>\n",
       "      <th>open</th>\n",
       "      <th>close</th>\n",
       "      <th>high</th>\n",
       "      <th>low</th>\n",
       "      <th>volume</th>\n",
       "      <th>code</th>\n",
       "    </tr>\n",
       "    <tr>\n",
       "      <th>date</th>\n",
       "      <th></th>\n",
       "      <th></th>\n",
       "      <th></th>\n",
       "      <th></th>\n",
       "      <th></th>\n",
       "      <th></th>\n",
       "      <th></th>\n",
       "    </tr>\n",
       "  </thead>\n",
       "  <tbody>\n",
       "    <tr>\n",
       "      <th>2019-06-03</th>\n",
       "      <td>2019-06-03</td>\n",
       "      <td>23.498</td>\n",
       "      <td>23.128</td>\n",
       "      <td>23.708</td>\n",
       "      <td>22.968</td>\n",
       "      <td>317567.0</td>\n",
       "      <td>000002</td>\n",
       "    </tr>\n",
       "    <tr>\n",
       "      <th>2019-06-04</th>\n",
       "      <td>2019-06-04</td>\n",
       "      <td>23.158</td>\n",
       "      <td>22.988</td>\n",
       "      <td>23.228</td>\n",
       "      <td>22.938</td>\n",
       "      <td>203260.0</td>\n",
       "      <td>000002</td>\n",
       "    </tr>\n",
       "    <tr>\n",
       "      <th>2019-06-05</th>\n",
       "      <td>2019-06-05</td>\n",
       "      <td>23.328</td>\n",
       "      <td>23.718</td>\n",
       "      <td>23.968</td>\n",
       "      <td>23.318</td>\n",
       "      <td>576164.0</td>\n",
       "      <td>000002</td>\n",
       "    </tr>\n",
       "    <tr>\n",
       "      <th>2019-06-06</th>\n",
       "      <td>2019-06-06</td>\n",
       "      <td>23.698</td>\n",
       "      <td>23.808</td>\n",
       "      <td>23.978</td>\n",
       "      <td>23.608</td>\n",
       "      <td>333792.0</td>\n",
       "      <td>000002</td>\n",
       "    </tr>\n",
       "    <tr>\n",
       "      <th>2019-06-10</th>\n",
       "      <td>2019-06-10</td>\n",
       "      <td>23.978</td>\n",
       "      <td>24.498</td>\n",
       "      <td>24.738</td>\n",
       "      <td>23.858</td>\n",
       "      <td>527547.0</td>\n",
       "      <td>000002</td>\n",
       "    </tr>\n",
       "  </tbody>\n",
       "</table>\n",
       "</div>"
      ],
      "text/plain": [
       "                  date    open   close    high     low    volume    code\n",
       "date                                                                    \n",
       "2019-06-03  2019-06-03  23.498  23.128  23.708  22.968  317567.0  000002\n",
       "2019-06-04  2019-06-04  23.158  22.988  23.228  22.938  203260.0  000002\n",
       "2019-06-05  2019-06-05  23.328  23.718  23.968  23.318  576164.0  000002\n",
       "2019-06-06  2019-06-06  23.698  23.808  23.978  23.608  333792.0  000002\n",
       "2019-06-10  2019-06-10  23.978  24.498  24.738  23.858  527547.0  000002"
      ]
     },
     "execution_count": 17,
     "metadata": {},
     "output_type": "execute_result"
    }
   ],
   "source": [
    "df.head()"
   ]
  },
  {
   "cell_type": "code",
   "execution_count": 38,
   "id": "b1a94596",
   "metadata": {},
   "outputs": [
    {
     "data": {
      "image/png": "[encoded data removed]",
      "text/plain": [
       "<Figure size 800x575 with 2 Axes>"
      ]
     },
     "metadata": {},
     "output_type": "display_data"
    }
   ],
   "source": [
    "# plt.figure(figsize=(15, 9), dpi=300)\n",
    "my_color = mpf.make_marketcolors(up='r', down='g', edge='i', wick='i')\n",
    "my_style = mpf.make_mpf_style(marketcolors=my_color, gridaxis='both', gridstyle='-.')\n",
    "mpf.plot(df, type='candle', mav=(5, 10), style=my_style)"
   ]
  },
  {
   "cell_type": "code",
   "execution_count": 20,
   "id": "d016992a",
   "metadata": {},
   "outputs": [],
   "source": [
    "mpf.plot()"
   ]
  },
  {
   "cell_type": "code",
   "execution_count": null,
   "id": "5b6a87c2",
   "metadata": {},
   "outputs": [],
   "source": []
  }
 ],
 "metadata": {
  "kernelspec": {
   "display_name": "Python 3 (ipykernel)",
   "language": "python",
   "name": "python3"
  },
  "language_info": {
   "codemirror_mode": {
    "name": "ipython",
    "version": 3
   },
   "file_extension": ".py",
   "mimetype": "text/x-python",
   "name": "python",
   "nbconvert_exporter": "python",
   "pygments_lexer": "ipython3",
   "version": "3.9.12"
  }
 },
 "nbformat": 4,
 "nbformat_minor": 5
}
