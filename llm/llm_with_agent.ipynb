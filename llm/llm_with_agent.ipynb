{
 "cells": [
  {
   "cell_type": "code",
   "execution_count": 3,
   "id": "9c8d6531-a378-4f53-b247-543812f9e4c6",
   "metadata": {},
   "outputs": [],
   "source": [
    "from langchain.llms.base import LLM\n",
    "from typing import Optional, List, Mapping, Any\n",
    "\n",
    "import requests"
   ]
  },
  {
   "cell_type": "code",
   "execution_count": 7,
   "id": "ce5483f6-f25e-4369-b705-92a75df0337f",
   "metadata": {},
   "outputs": [],
   "source": [
    "HOST = 'localhost:5000'\n",
    "URI = f'http://{HOST}/api/v1/generate'\n",
    "\n",
    "class AlpacaLLM(LLM):\n",
    "    \n",
    "    @property\n",
    "    def _llm_type(self) -> str:\n",
    "        return \"custom\"\n",
    "\n",
    "    def _call(self, prompt: str, stop: Optional[List[str]] = None) -> str:\n",
    "        if isinstance(stop, list):\n",
    "            stop = stop + [\"\\n###\",\"\\nObservation:\", \"\\nObservations:\"]\n",
    "\n",
    "        response = requests.post(\n",
    "            URI,\n",
    "            json={\n",
    "                \"prompt\": prompt,\n",
    "                \"temperature\": 0.7,\n",
    "                \"max_new_tokens\": 256,\n",
    "                \"early_stopping\": True,\n",
    "                \"stopping_strings\": stop,\n",
    "                'do_sample': True,\n",
    "                'top_p': 0.1,\n",
    "                'typical_p': 1,\n",
    "                'repetition_penalty': 1.18,\n",
    "                'top_k': 40,\n",
    "                'min_length': 0,\n",
    "                'no_repeat_ngram_size': 0,\n",
    "                'num_beams': 1,\n",
    "                'penalty_alpha': 0,\n",
    "                'length_penalty': 1,\n",
    "                'seed': -1,\n",
    "                'add_bos_token': True,\n",
    "                'truncation_length': 2048,\n",
    "                'ban_eos_token': False,\n",
    "                'skip_special_tokens': True,\n",
    "            },\n",
    "        )\n",
    "        response.raise_for_status()\n",
    "        return response.json()['results'][0]['text']\n",
    "\n",
    "    @property\n",
    "    def _identifying_params(self) -> Mapping[str, Any]:\n",
    "        \"\"\"Get the identifying parameters.\"\"\"\n",
    "        return {}"
   ]
  },
  {
   "cell_type": "code",
   "execution_count": 8,
   "id": "bbaa2080-4181-4f83-8eb9-d46c4381ff77",
   "metadata": {},
   "outputs": [],
   "source": [
    "llm = AlpacaLLM()"
   ]
  },
  {
   "cell_type": "code",
   "execution_count": 8,
   "id": "56a842df-ee84-44f4-99e2-31128139ca27",
   "metadata": {},
   "outputs": [],
   "source": []
  },
  {
   "cell_type": "code",
   "execution_count": 10,
   "id": "641a3600-2e1b-4f1a-ab39-0b18c7f64693",
   "metadata": {},
   "outputs": [],
   "source": [
    "\n",
    "from langchain.agents import load_tools\n",
    "from langchain.agents import initialize_agent\n",
    "from langchain.agents import AgentType\n",
    "from langchain.utilities import GoogleSearchAPIWrapper\n",
    "from langchain.utilities import WikipediaAPIWrapper\n",
    "from langchain.agents import Tool, AgentExecutor, LLMSingleActionAgent, AgentOutputParser\n",
    "from langchain.prompts import StringPromptTemplate\n",
    "from langchain import OpenAI, SerpAPIWrapper, LLMChain\n",
    "from typing import List, Union, Any, Optional, Type\n",
    "from langchain.schema import AgentAction, AgentFinish\n",
    "import re\n",
    "import os\n",
    "from langchain import PromptTemplate\n",
    "from langchain.tools import BaseTool\n",
    "from langchain.callbacks.manager import AsyncCallbackManagerForToolRun, CallbackManagerForToolRun\n",
    "from langchain.utilities import GoogleSerperAPIWrapper"
   ]
  },
  {
   "cell_type": "code",
   "execution_count": 11,
   "id": "1f2f967e-81b9-4923-874e-cee3ae5ebc40",
   "metadata": {},
   "outputs": [],
   "source": [
    "template = \"\"\"Below is an instruction that describes a task, paired with an input that provides further context. Write a response that appropriately completes the request.\n",
    "\n",
    "### Instruction:\n",
    "Answer the following questions as best you can. You have access to the following tools:\n",
    "\n",
    "Google Search: A wrapper around Google Search. Useful for when you need to answer questions about current events. The input is the question to search relavant information.\n",
    "\n",
    "Strictly use the following format:\n",
    "\n",
    "Question: the input question you must answer\n",
    "Thought: you should always think about what to do\n",
    "Action: the action to take, should be one of [Google Search]\n",
    "Action Input: the input to the action, should be a question.\n",
    "Observation: the result of the action\n",
    "... (this Thought/Action/Action Input/Observation can repeat N times)\n",
    "Thought: I now know the final answer\n",
    "Final Answer: the final answer to the original input question\n",
    "\n",
    "For examples:\n",
    "Question: How old is CEO of Microsoft wife?\n",
    "Thought: First, I need to find who is the CEO of Microsoft.\n",
    "Action: Google Search\n",
    "Action Input: Who is the CEO of Microsoft?\n",
    "Observation: Satya Nadella is the CEO of Microsoft.\n",
    "Thought: Now, I should find out Satya Nadella's wife.\n",
    "Action: Google Search\n",
    "Action Input: Who is Satya Nadella's wife?\n",
    "Observation: Satya Nadella's wife's name is Anupama Nadella.\n",
    "Thought: Then, I need to check Anupama Nadella's age.\n",
    "Action: Google Search\n",
    "Action Input: How old is Anupama Nadella?\n",
    "Observation: Anupama Nadella's age is 50.\n",
    "Thought: I now know the final answer.\n",
    "Final Answer: Anupama Nadella is 50 years old.\n",
    "\n",
    "### Input:\n",
    "{input}\n",
    "\n",
    "### Response:\n",
    "{agent_scratchpad}\"\"\"\n"
   ]
  },
  {
   "cell_type": "code",
   "execution_count": 19,
   "id": "27fa92f2-401f-4fd2-8b0e-bcd237669399",
   "metadata": {},
   "outputs": [],
   "source": [
    "temp_Ins = \"\"\"Below is an instruction that describes a task, paired with an input that provides further context. Write a response that appropriately completes the request.\n",
    "\n",
    "### Instruction:\n",
    "Question: {thought}\n",
    "Query: {query}\n",
    "Observation: {observation}\n",
    "\n",
    "### Input:\n",
    "Make a short summary of useful information from the result observation that is related to the question.\n",
    "\n",
    "### Response:\"\"\"\n",
    "\n",
    "prompt_Ins = PromptTemplate(\n",
    "    input_variables=[\"thought\", \"query\", \"observation\"],\n",
    "    template=temp_Ins,\n",
    ")"
   ]
  },
  {
   "cell_type": "code",
   "execution_count": 67,
   "id": "b99401bb-80ae-4ede-b651-d7a581583ce2",
   "metadata": {},
   "outputs": [],
   "source": [
    "class CustomPromptTemplate(StringPromptTemplate):\n",
    "\n",
    "    input_variables: List[str]\n",
    "    \"\"\"A list of the names of the variables the prompt template expects.\"\"\"\n",
    "\n",
    "    template: str\n",
    "    \"\"\"The prompt template.\"\"\"\n",
    "\n",
    "    template_format: str = \"f-string\"\n",
    "    \"\"\"The format of the prompt template. Options are: 'f-string', 'jinja2'.\"\"\"\n",
    "\n",
    "    validate_template: bool = False\n",
    "    \"\"\"Whether or not to try validating the template.\"\"\"\n",
    "\n",
    "    def format(self, **kwargs) -> str:\n",
    "        # Get the intermediate steps (AgentAction, Observation tuples)\n",
    "        # Format them in a particular way\n",
    "\n",
    "        print(f\"format. kwargs: {kwargs} !!!!\")\n",
    "        \n",
    "        intermediate_steps = kwargs.pop(\"intermediate_steps\")\n",
    "        \n",
    "        thoughts = \"\"\n",
    "        # Refine the observation\n",
    "        if len(intermediate_steps) > 0:\n",
    "            # regex = r\"Thought\\s*\\d*\\s*:(.*?)\\nAction\\s*\\d*\\s*:(.*?)\\nAction\\s*\\d*\\s*Input\\s*\\d*\\s*:[\\s]*(.*)\\nObservation\"\n",
    "            regex = r\"Thought: (.+)\\nAction: (.+)\\nAction Input: (.+)\"\n",
    "            text_match = intermediate_steps[-1][0].log\n",
    "\n",
    "            print(f\"format. text_match: {text_match}  !!!!\")\n",
    "            \n",
    "            if len(intermediate_steps) > 1:\n",
    "                text_match = 'Thought: ' + text_match\n",
    "            match = re.search(regex, text_match, re.DOTALL) \n",
    "\n",
    "            print(f\"match: {match.group(1)}, {match.group(3)} !!!\")\n",
    "            \n",
    "            my_list = list(intermediate_steps[-1])\n",
    "            p_INS_temp = prompt_Ins.format(thought=match.group(1).strip(), query=match.group(3).strip(), observation=my_list[1])\n",
    "            my_list[1] = llm(p_INS_temp)\n",
    "            my_tuple = tuple(my_list)            \n",
    "            intermediate_steps[-1] = my_tuple\n",
    "            \n",
    "        for action, observation in intermediate_steps:\n",
    "            thoughts += action.log\n",
    "            thoughts += f\" {observation}\\nThought:\"\n",
    "        # Set the agent_scratchpad variable to that value\n",
    "        kwargs[\"agent_scratchpad\"] = thoughts\n",
    "        \n",
    "        return self.template.format(**kwargs)"
   ]
  },
  {
   "cell_type": "code",
   "execution_count": 68,
   "id": "7ef07ff4-58fb-4c1d-84e8-d58c3639b946",
   "metadata": {},
   "outputs": [],
   "source": [
    "prompt = CustomPromptTemplate(input_variables=[\"input\", \"intermediate_steps\"],\n",
    "                              template=template,validate_template=False)"
   ]
  },
  {
   "cell_type": "code",
   "execution_count": 69,
   "id": "92e536f1-2194-46bb-a356-e2535fb1e342",
   "metadata": {},
   "outputs": [],
   "source": [
    "class CustomOutputParser(AgentOutputParser):\n",
    "    \n",
    "    def parse(self, llm_output: str) -> Union[AgentAction, AgentFinish]:\n",
    "        # Check if agent should finish\n",
    "\n",
    "        print(f\"parse: {llm_output} !!!\")\n",
    "        \n",
    "        if \"Final Answer:\" in llm_output:\n",
    "            return AgentFinish(\n",
    "                # Return values is generally always a dictionary with a single `output` key\n",
    "                # It is not recommended to try anything else at the moment :)\n",
    "                return_values={\"output\": llm_output.split(\"Final Answer:\")[-1].strip()},\n",
    "                log=llm_output,\n",
    "            )\n",
    "        # Parse out the action and action input\n",
    "        regex = r\"Action\\s*\\d*\\s*:(.*?)\\nAction\\s*\\d*\\s*Input\\s*\\d*\\s*:[\\s]*(.*)\"\n",
    "        match = re.search(regex, llm_output, re.DOTALL)\n",
    "        if not match:\n",
    "            raise ValueError(f\"Could not parse LLM output: `{llm_output}`\")\n",
    "        action = match.group(1).strip()\n",
    "        action_input = match.group(2)\n",
    "        # Return the action and action input\n",
    "        return AgentAction(tool=action, tool_input=action_input.strip(\" \").strip('\"'), log=llm_output)\n",
    "        \n",
    "output_parser = CustomOutputParser()"
   ]
  },
  {
   "cell_type": "code",
   "execution_count": 70,
   "id": "48b997fe-918f-475a-8075-2d4a92f29077",
   "metadata": {},
   "outputs": [],
   "source": [
    "\n",
    "os.environ[\"SERPER_API_KEY\"] = '57f5529cc26567e265b100d9c20f58c0921452a8'\n",
    "\n",
    "search = GoogleSerperAPIWrapper()\n",
    "tool_google = Tool(\n",
    "        name=\"Google Search\",\n",
    "        func=search.run,\n",
    "        description=\"useful for when you need to ask with search\"\n",
    "    )\n",
    "\n",
    "tool_names = [tool_google]"
   ]
  },
  {
   "cell_type": "code",
   "execution_count": 71,
   "id": "b8dbcf08-65d1-4a80-8618-5b0e3a13eb75",
   "metadata": {},
   "outputs": [],
   "source": [
    "llm_chain = LLMChain(llm=llm, prompt=prompt)\n",
    "agent = LLMSingleActionAgent(\n",
    "    llm_chain=llm_chain, \n",
    "    output_parser=output_parser,\n",
    "    stop=[\"\\nObservation:\", \"\\nObservations:\"], \n",
    "    allowed_tools=tool_names\n",
    ")\n",
    "agent_executor = AgentExecutor.from_agent_and_tools(agent=agent, tools=tool_names, verbose=True)"
   ]
  },
  {
   "cell_type": "code",
   "execution_count": 72,
   "id": "60094229-5f57-49a1-90c4-b1dcb19798e8",
   "metadata": {},
   "outputs": [
    {
     "name": "stdout",
     "output_type": "stream",
     "text": [
      "\n",
      "\n",
      "\u001b[1m> Entering new AgentExecutor chain...\u001b[0m\n",
      "format. kwargs: {'input': 'Is Eminem an actor?', 'intermediate_steps': []} !!!!\n",
      "parse: \n",
      "Question: Is Eminem an actor?\n",
      "Thought: Let me see if there are any recent news or updates on this topic.\n",
      "Action: Google Search\n",
      "Action Input: \"Eminem\" + \"actor\" !!!\n",
      "\u001b[32;1m\u001b[1;3m\n",
      "Question: Is Eminem an actor?\n",
      "Thought: Let me see if there are any recent news or updates on this topic.\n",
      "Action: Google Search\n",
      "Action Input: \"Eminem\" + \"actor\"\u001b[0m\n",
      "\n",
      "Observation:\u001b[36;1m\u001b[1;3mBodied\u001b[0m\n",
      "format. kwargs: {'input': 'Is Eminem an actor?', 'intermediate_steps': [(AgentAction(tool='Google Search', tool_input='Eminem\" + \"actor', log='\\nQuestion: Is Eminem an actor?\\nThought: Let me see if there are any recent news or updates on this topic.\\nAction: Google Search\\nAction Input: \"Eminem\" + \"actor\"'), 'Bodied')]} !!!!\n",
      "format. text_match: \n",
      "Question: Is Eminem an actor?\n",
      "Thought: Let me see if there are any recent news or updates on this topic.\n",
      "Action: Google Search\n",
      "Action Input: \"Eminem\" + \"actor\"  !!!!\n",
      "match: Let me see if there are any recent news or updates on this topic., \"Eminem\" + \"actor\" !!!\n",
      "parse:  It seems like Eminem acted in a movie called Bodied.\n",
      "Final Answer: Yes, Eminem is an actor, having appeared in the movie Bodied. !!!\n",
      "\u001b[32;1m\u001b[1;3m It seems like Eminem acted in a movie called Bodied.\n",
      "Final Answer: Yes, Eminem is an actor, having appeared in the movie Bodied.\u001b[0m\n",
      "\n",
      "\u001b[1m> Finished chain.\u001b[0m\n"
     ]
    },
    {
     "data": {
      "text/plain": [
       "'Yes, Eminem is an actor, having appeared in the movie Bodied.'"
      ]
     },
     "execution_count": 72,
     "metadata": {},
     "output_type": "execute_result"
    }
   ],
   "source": [
    "agent_executor.run(\"Is Eminem an actor?\")"
   ]
  },
  {
   "cell_type": "code",
   "execution_count": 73,
   "id": "e3d2458a-071c-48fe-8ed2-09a9e72fdaf6",
   "metadata": {},
   "outputs": [
    {
     "name": "stdout",
     "output_type": "stream",
     "text": [
      "\n",
      "\n",
      "\u001b[1m> Entering new AgentExecutor chain...\u001b[0m\n",
      "format. kwargs: {'input': '在中国，酒驾撞人会受到什么惩罚？', 'intermediate_steps': []} !!!!\n",
      "parse: Question: What are the consequences of drunk driving in China?\n",
      "Thought: This is a serious issue and needs immediate attention.\n",
      "Action: Google Search\n",
      "Action Input: What are the consequences of drunk driving in China? !!!\n",
      "\u001b[32;1m\u001b[1;3mQuestion: What are the consequences of drunk driving in China?\n",
      "Thought: This is a serious issue and needs immediate attention.\n",
      "Action: Google Search\n",
      "Action Input: What are the consequences of drunk driving in China?\u001b[0m\n",
      "\n",
      "Observation:\u001b[36;1m\u001b[1;3mDrunk drivers will have their driving license suspended, serving a 5-year ban before they can apply for a new license, and they will be jailed and/or fined after being tried in court. If you have China traffic tickets more than 12 points, please contact us for details.\u001b[0m\n",
      "format. kwargs: {'input': '在中国，酒驾撞人会受到什么惩罚？', 'intermediate_steps': [(AgentAction(tool='Google Search', tool_input='What are the consequences of drunk driving in China?', log='Question: What are the consequences of drunk driving in China?\\nThought: This is a serious issue and needs immediate attention.\\nAction: Google Search\\nAction Input: What are the consequences of drunk driving in China?'), 'Drunk drivers will have their driving license suspended, serving a 5-year ban before they can apply for a new license, and they will be jailed and/or fined after being tried in court. If you have China traffic tickets more than 12 points, please contact us for details.')]} !!!!\n",
      "format. text_match: Question: What are the consequences of drunk driving in China?\n",
      "Thought: This is a serious issue and needs immediate attention.\n",
      "Action: Google Search\n",
      "Action Input: What are the consequences of drunk driving in China?  !!!!\n",
      "match: This is a serious issue and needs immediate attention., What are the consequences of drunk driving in China? !!!\n",
      "parse:  It's important to note that these penalties may vary depending on the severity of the incident and local laws.\n",
      "Final Answer: In China, the consequences of drunk driving include losing your driver's license for five years, possible imprisonment or fines, and seeking legal help for multiple offenses. !!!\n",
      "\u001b[32;1m\u001b[1;3m It's important to note that these penalties may vary depending on the severity of the incident and local laws.\n",
      "Final Answer: In China, the consequences of drunk driving include losing your driver's license for five years, possible imprisonment or fines, and seeking legal help for multiple offenses.\u001b[0m\n",
      "\n",
      "\u001b[1m> Finished chain.\u001b[0m\n"
     ]
    },
    {
     "data": {
      "text/plain": [
       "\"In China, the consequences of drunk driving include losing your driver's license for five years, possible imprisonment or fines, and seeking legal help for multiple offenses.\""
      ]
     },
     "execution_count": 73,
     "metadata": {},
     "output_type": "execute_result"
    }
   ],
   "source": [
    "agent_executor.run(\"在中国，酒驾撞人会受到什么惩罚？\")"
   ]
  },
  {
   "cell_type": "code",
   "execution_count": null,
   "id": "5554b882-0ac9-4629-947f-13cd7ca4aaf7",
   "metadata": {},
   "outputs": [],
   "source": []
  }
 ],
 "metadata": {
  "kernelspec": {
   "display_name": "Python 3 (ipykernel)",
   "language": "python",
   "name": "python3"
  },
  "language_info": {
   "codemirror_mode": {
    "name": "ipython",
    "version": 3
   },
   "file_extension": ".py",
   "mimetype": "text/x-python",
   "name": "python",
   "nbconvert_exporter": "python",
   "pygments_lexer": "ipython3",
   "version": "3.10.12"
  }
 },
 "nbformat": 4,
 "nbformat_minor": 5
}
